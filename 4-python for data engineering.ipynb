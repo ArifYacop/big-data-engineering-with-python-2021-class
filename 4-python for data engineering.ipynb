{
 "cells": [
  {
   "cell_type": "markdown",
   "metadata": {},
   "source": [
    "# Python for Big Data Engineering"
   ]
  },
  {
   "cell_type": "markdown",
   "metadata": {},
   "source": [
    "## Whitespace Formatting"
   ]
  },
  {
   "cell_type": "markdown",
   "metadata": {},
   "source": [
    "Many languages use curly braces to delimit blocks of code. Python uses indentation"
   ]
  },
  {
   "cell_type": "code",
   "execution_count": 1,
   "metadata": {
    "collapsed": true
   },
   "outputs": [
    {
     "name": "stdout",
     "output_type": "stream",
     "text": [
      "1\n",
      "1\n",
      "2\n",
      "2\n",
      "3\n",
      "3\n",
      "4\n",
      "4\n",
      "5\n",
      "5\n",
      "6\n",
      "1\n",
      "2\n",
      "1\n",
      "3\n",
      "2\n",
      "4\n",
      "3\n",
      "5\n",
      "4\n",
      "6\n",
      "5\n",
      "7\n",
      "2\n",
      "3\n",
      "1\n",
      "4\n",
      "2\n",
      "5\n",
      "3\n",
      "6\n",
      "4\n",
      "7\n",
      "5\n",
      "8\n",
      "3\n",
      "4\n",
      "1\n",
      "5\n",
      "2\n",
      "6\n",
      "3\n",
      "7\n",
      "4\n",
      "8\n",
      "5\n",
      "9\n",
      "4\n",
      "5\n",
      "1\n",
      "6\n",
      "2\n",
      "7\n",
      "3\n",
      "8\n",
      "4\n",
      "9\n",
      "5\n",
      "10\n",
      "5\n"
     ]
    }
   ],
   "source": [
    "for i in [1, 2, 3, 4, 5]:\n",
    "    print(i)                    # first line in \"for i\" block\n",
    "    for j in [1, 2, 3, 4, 5]:\n",
    "        print(j)                # first line in \"for j\" block\n",
    "        print(i + j)            # last line in \"for j\" block\n",
    "    print(i)                    # last line in \"for i\" block\n",
    "# print(\"done looping\")"
   ]
  },
  {
   "cell_type": "code",
   "execution_count": 2,
   "metadata": {},
   "outputs": [],
   "source": [
    "long_winded_computation = (1 + 2 + 3 + 4 + 5 + 6 + 7 + 8 + 9 + 10 + 11 + 12 +\n",
    "                           13 + 14 + 15 + 16 + \n",
    "                           17 + \n",
    "                           18 + \n",
    "                           19 + 20)"
   ]
  },
  {
   "cell_type": "code",
   "execution_count": 3,
   "metadata": {},
   "outputs": [],
   "source": [
    "list_of_lists = [[1, 2, 3], [4, 5, 6], [7, 8, 9]]"
   ]
  },
  {
   "cell_type": "code",
   "execution_count": 4,
   "metadata": {},
   "outputs": [],
   "source": [
    "easier_to_read_list_of_lists = [[1, 2, 3],\n",
    "                                [4, 5, 6],\n",
    "                                [7, 8, 9]]"
   ]
  },
  {
   "cell_type": "code",
   "execution_count": 5,
   "metadata": {},
   "outputs": [
    {
     "name": "stdout",
     "output_type": "stream",
     "text": [
      "5\n"
     ]
    }
   ],
   "source": [
    "two_plus_three = 2 + \\\n",
    "                 3\n",
    "                \n",
    "print(two_plus_three)"
   ]
  },
  {
   "cell_type": "code",
   "execution_count": 6,
   "metadata": {
    "collapsed": true
   },
   "outputs": [
    {
     "name": "stdout",
     "output_type": "stream",
     "text": [
      "1\n",
      "2\n",
      "3\n",
      "4\n",
      "5\n"
     ]
    }
   ],
   "source": [
    "for i in [1, 2, 3, 4, 5]:\n",
    "\n",
    "    \n",
    "    \n",
    "    \n",
    "    # notice the blank line\n",
    "    print(i)"
   ]
  },
  {
   "cell_type": "markdown",
   "metadata": {},
   "source": [
    "## Module"
   ]
  },
  {
   "cell_type": "markdown",
   "metadata": {},
   "source": [
    "Certain features of Python are not loaded by default. These include both features that are included as part of the language as well as third-party features that you download yourself. In order to use these features, you’ll need to import the modules that contain them."
   ]
  },
  {
   "cell_type": "code",
   "execution_count": 7,
   "metadata": {},
   "outputs": [],
   "source": [
    "import re\n",
    "my_regex = re.compile(\"[0-9]+\", re.I)"
   ]
  },
  {
   "cell_type": "code",
   "execution_count": 8,
   "metadata": {},
   "outputs": [],
   "source": [
    "import re as regexxx\n",
    "my_regex = regexxx.compile(\"[0-9]+\", regexxx.I)"
   ]
  },
  {
   "cell_type": "code",
   "execution_count": 9,
   "metadata": {},
   "outputs": [],
   "source": [
    "from collections import defaultdict, Counter\n",
    "lookup = defaultdict(int)\n",
    "my_counter = Counter()"
   ]
  },
  {
   "cell_type": "code",
   "execution_count": 10,
   "metadata": {
    "scrolled": true
   },
   "outputs": [
    {
     "name": "stdout",
     "output_type": "stream",
     "text": [
      "<function match at 0x0000021310B3C5E0>\n"
     ]
    }
   ],
   "source": [
    "match = 10\n",
    "from re import *    # uh oh, re has a match function\n",
    "print(match)        # \"<function match at 0x10281e6a8>\""
   ]
  },
  {
   "cell_type": "code",
   "execution_count": 14,
   "metadata": {},
   "outputs": [
    {
     "ename": "ModuleNotFoundError",
     "evalue": "No module named 'faker'",
     "output_type": "error",
     "traceback": [
      "\u001b[1;31m---------------------------------------------------------------------------\u001b[0m",
      "\u001b[1;31mModuleNotFoundError\u001b[0m                       Traceback (most recent call last)",
      "\u001b[1;32m<ipython-input-14-4e5e5f7aae21>\u001b[0m in \u001b[0;36m<module>\u001b[1;34m\u001b[0m\n\u001b[0;32m      4\u001b[0m \u001b[1;32mimport\u001b[0m \u001b[0mseaborn\u001b[0m \u001b[1;32mas\u001b[0m \u001b[0msns\u001b[0m\u001b[1;33m\u001b[0m\u001b[1;33m\u001b[0m\u001b[0m\n\u001b[0;32m      5\u001b[0m \u001b[1;32mimport\u001b[0m \u001b[0mstatsmodels\u001b[0m \u001b[1;32mas\u001b[0m \u001b[0msm\u001b[0m\u001b[1;33m\u001b[0m\u001b[1;33m\u001b[0m\u001b[0m\n\u001b[1;32m----> 6\u001b[1;33m \u001b[1;32mfrom\u001b[0m \u001b[0mfaker\u001b[0m \u001b[1;32mimport\u001b[0m \u001b[0mFaker\u001b[0m\u001b[1;33m\u001b[0m\u001b[1;33m\u001b[0m\u001b[0m\n\u001b[0m",
      "\u001b[1;31mModuleNotFoundError\u001b[0m: No module named 'faker'"
     ]
    }
   ],
   "source": [
    "import numpy as np\n",
    "import pandas as pd\n",
    "import matplotlib.pyplot as plt\n",
    "import seaborn as sns\n",
    "import statsmodels as sm\n",
    "#from faker import Faker = error\n",
    "#import faker as Faker = error"
   ]
  },
  {
   "cell_type": "code",
   "execution_count": null,
   "metadata": {},
   "outputs": [],
   "source": []
  },
  {
   "cell_type": "markdown",
   "metadata": {},
   "source": [
    "## Functions"
   ]
  },
  {
   "cell_type": "markdown",
   "metadata": {},
   "source": [
    "A function is a rule for taking zero or more inputs and returning a corresponding output. In Python, we typically define functions using `def`:"
   ]
  },
  {
   "cell_type": "code",
   "execution_count": 15,
   "metadata": {},
   "outputs": [],
   "source": [
    "def a(x):\n",
    "    return x\n",
    "\n",
    "def b(y):\n",
    "    return y\n",
    "\n",
    "def sum_of_two_number(x, y):\n",
    "    return x + y"
   ]
  },
  {
   "cell_type": "code",
   "execution_count": 16,
   "metadata": {},
   "outputs": [],
   "source": [
    "def double(x):\n",
    "    \"\"\"\n",
    "    This is where you put an optional docstring that explains what the\n",
    "    function does. For example, this function multiplies its input by 2.\n",
    "    \"\"\"\n",
    "    return x * 2"
   ]
  },
  {
   "cell_type": "code",
   "execution_count": 20,
   "metadata": {},
   "outputs": [
    {
     "data": {
      "text/plain": [
       "<function __main__.apply_to_one(f)>"
      ]
     },
     "execution_count": 20,
     "metadata": {},
     "output_type": "execute_result"
    }
   ],
   "source": [
    "def apply_to_one(f):\n",
    "    \"\"\"Calls the function f with 1 as its argument\"\"\"\n",
    "    return f(1)\n",
    "\n",
    "apply_to_one"
   ]
  },
  {
   "cell_type": "code",
   "execution_count": 18,
   "metadata": {},
   "outputs": [],
   "source": [
    "my_double = double             # refers to the previously defined function\n",
    "x = apply_to_one(my_double)    # equals 2\n",
    "\n",
    "assert x == 2"
   ]
  },
  {
   "cell_type": "code",
   "execution_count": null,
   "metadata": {},
   "outputs": [],
   "source": [
    "y = apply_to_one(lambda x: x + 4)      # equals 5\n",
    "\n",
    "assert y == 5"
   ]
  },
  {
   "cell_type": "code",
   "execution_count": null,
   "metadata": {},
   "outputs": [],
   "source": [
    "another_double = lambda x: 2 * x       # Don't do this"
   ]
  },
  {
   "cell_type": "code",
   "execution_count": null,
   "metadata": {},
   "outputs": [],
   "source": [
    "def another_double(x):\n",
    "    \"\"\"Do this instead\"\"\"\n",
    "    return 2 * x"
   ]
  },
  {
   "cell_type": "code",
   "execution_count": null,
   "metadata": {},
   "outputs": [],
   "source": [
    "def my_print(message = \"my default message\"):\n",
    "    print(message)"
   ]
  },
  {
   "cell_type": "code",
   "execution_count": null,
   "metadata": {},
   "outputs": [
    {
     "name": "stdout",
     "output_type": "stream",
     "text": [
      "hello\n",
      "my default message\n"
     ]
    }
   ],
   "source": [
    "my_print(\"hello\")   # prints 'hello'\n",
    "my_print()          # prints 'my default message'"
   ]
  },
  {
   "cell_type": "code",
   "execution_count": null,
   "metadata": {},
   "outputs": [],
   "source": [
    "def full_name(first = \"What's-his-name\", last = \"Something\"):\n",
    "    return first + \" \" + last"
   ]
  },
  {
   "cell_type": "code",
   "execution_count": null,
   "metadata": {},
   "outputs": [
    {
     "data": {
      "text/plain": [
       "\"What's-his-name Langsari\""
      ]
     },
     "execution_count": 110,
     "metadata": {},
     "output_type": "execute_result"
    }
   ],
   "source": [
    "full_name(\"Kholed\", \"Langsari\")     # \"Kholed Langsari\"\n",
    "full_name(\"Kholed\")             # \"Kholed Something\"\n",
    "full_name(last=\"Langsari\")        # \"What's-his-name Langsari\""
   ]
  },
  {
   "cell_type": "code",
   "execution_count": null,
   "metadata": {},
   "outputs": [],
   "source": [
    "assert full_name(\"Kholed\", \"Langsari\")     == \"Kholed Langsari\"\n",
    "assert full_name(\"Kholed\")                 == \"Kholed Something\"\n",
    "assert full_name(last=\"Langsari\")          == \"What's-his-name Langsari\""
   ]
  },
  {
   "cell_type": "markdown",
   "metadata": {},
   "source": [
    "## Strings"
   ]
  },
  {
   "cell_type": "markdown",
   "metadata": {},
   "source": [
    "Strings can be delimited by single or double quotation marks (but the quotes have to match):"
   ]
  },
  {
   "cell_type": "code",
   "execution_count": null,
   "metadata": {},
   "outputs": [],
   "source": [
    "single_quoted_string = 'data engineering'\n",
    "double_quoted_string = \"data engineering\""
   ]
  },
  {
   "cell_type": "code",
   "execution_count": null,
   "metadata": {},
   "outputs": [],
   "source": [
    "tab_string = \"\\t\"       # represents the tab character\n",
    "len(tab_string)         # is 1\n",
    "\n",
    "assert len(tab_string) == 1"
   ]
  },
  {
   "cell_type": "code",
   "execution_count": null,
   "metadata": {},
   "outputs": [],
   "source": [
    "not_tab_string = r\"\\t\"  # represents the characters '\\' and 't'\n",
    "len(not_tab_string)     # is 2\n",
    "\n",
    "assert len(not_tab_string) == 2"
   ]
  },
  {
   "cell_type": "code",
   "execution_count": null,
   "metadata": {},
   "outputs": [
    {
     "name": "stdout",
     "output_type": "stream",
     "text": [
      "This is the first line.\n",
      "and this is the second line\n",
      "and this is the third line\n"
     ]
    }
   ],
   "source": [
    "multi_line_string = \"\"\"This is the first line.\n",
    "and this is the second line\n",
    "and this is the third line\"\"\"\n",
    "print(multi_line_string)"
   ]
  },
  {
   "cell_type": "code",
   "execution_count": null,
   "metadata": {},
   "outputs": [],
   "source": [
    "first_name = \"Kholed\"\n",
    "last_name = \"Langsari\""
   ]
  },
  {
   "cell_type": "code",
   "execution_count": null,
   "metadata": {},
   "outputs": [],
   "source": [
    "full_name1 = first_name + \" \" + last_name             # string addition\n",
    "full_name2 = \"{0} {1}\".format(first_name, last_name)  # string.format"
   ]
  },
  {
   "cell_type": "code",
   "execution_count": null,
   "metadata": {},
   "outputs": [],
   "source": [
    "full_name3 = f\"{first_name} {last_name}\""
   ]
  },
  {
   "cell_type": "markdown",
   "metadata": {},
   "source": [
    "## Exceptions"
   ]
  },
  {
   "cell_type": "markdown",
   "metadata": {},
   "source": [
    "When something goes wrong, Python raises an *exception*. Unhandled, exceptions will cause your program to crash. You can handle them using `try` and `except`:"
   ]
  },
  {
   "cell_type": "code",
   "execution_count": null,
   "metadata": {},
   "outputs": [
    {
     "name": "stdout",
     "output_type": "stream",
     "text": [
      "cannot divide by zero\n"
     ]
    }
   ],
   "source": [
    "try:\n",
    "    print(0 / 0)\n",
    "except ZeroDivisionError:\n",
    "    print(\"cannot divide by zero\")"
   ]
  },
  {
   "cell_type": "markdown",
   "metadata": {},
   "source": [
    "# Lists"
   ]
  },
  {
   "cell_type": "markdown",
   "metadata": {},
   "source": [
    "Probably the most fundamental data structure in Python is the `list`, which is simply an ordered collection (it is similar to what in other languages might be called an array, but with some added functionality): "
   ]
  },
  {
   "cell_type": "code",
   "execution_count": null,
   "metadata": {},
   "outputs": [],
   "source": [
    "integer_list = [1, 2, 3]\n",
    "heterogeneous_list = [\"string\", 0.1, True]\n",
    "list_of_lists = [integer_list, heterogeneous_list, []]\n",
    "\n",
    "list_length = len(integer_list)     # equals 3\n",
    "list_sum    = sum(integer_list)     # equals 6\n",
    "\n",
    "assert list_length == 3\n",
    "assert list_sum == 6"
   ]
  },
  {
   "cell_type": "code",
   "execution_count": null,
   "metadata": {},
   "outputs": [],
   "source": [
    "x = [0, 1, 2, 3, 4, 5, 6, 7, 8, 9]\n",
    "\n",
    "zero = x[0]          # equals 0, lists are 0-indexed\n",
    "one = x[1]           # equals 1\n",
    "nine = x[-1]         # equals 9, 'Pythonic' for last element\n",
    "eight = x[-2]        # equals 8, 'Pythonic' for next-to-last element\n",
    "x[0] = -1            # now x is [-1, 1, 2, 3, ..., 9]\n",
    "\n",
    "assert x == [-1, 1, 2, 3, 4, 5, 6, 7, 8, 9]"
   ]
  },
  {
   "cell_type": "code",
   "execution_count": null,
   "metadata": {},
   "outputs": [],
   "source": [
    "first_three = x[:3]                 # [-1, 1, 2]\n",
    "three_to_end = x[3:]                # [3, 4, ..., 9]\n",
    "one_to_four = x[1:5]                # [1, 2, 3, 4]\n",
    "last_three = x[-3:]                 # [7, 8, 9]\n",
    "without_first_and_last = x[1:-1]    # [1, 2, ..., 8]\n",
    "copy_of_x = x[:]                    # [-1, 1, 2, ..., 9]\n",
    "\n",
    "every_third = x[::3]                 # [-1, 3, 6, 9]\n",
    "five_to_three = x[5:2:-1]            # [5, 4, 3]\n",
    "\n",
    "assert every_third == [-1, 3, 6, 9]\n",
    "assert five_to_three == [5, 4, 3]"
   ]
  },
  {
   "cell_type": "code",
   "execution_count": null,
   "metadata": {},
   "outputs": [
    {
     "data": {
      "text/plain": [
       "False"
      ]
     },
     "execution_count": 123,
     "metadata": {},
     "output_type": "execute_result"
    }
   ],
   "source": [
    "1 in [1, 2, 3]    # True\n",
    "0 in [1, 2, 3]    # False"
   ]
  },
  {
   "cell_type": "code",
   "execution_count": null,
   "metadata": {},
   "outputs": [],
   "source": [
    "x = [1, 2, 3]\n",
    "x.extend([4, 5, 6])     # x is now [1, 2, 3, 4, 5, 6]\n",
    "\n",
    "assert x == [1, 2, 3, 4, 5, 6]"
   ]
  },
  {
   "cell_type": "code",
   "execution_count": null,
   "metadata": {},
   "outputs": [],
   "source": [
    "x = [1, 2, 3]\n",
    "y = x + [4, 5, 6]       # y is [1, 2, 3, 4, 5, 6]; x is unchanged\n",
    "\n",
    "assert x == [1, 2, 3]\n",
    "assert y == [1, 2, 3, 4, 5, 6]"
   ]
  },
  {
   "cell_type": "code",
   "execution_count": null,
   "metadata": {},
   "outputs": [],
   "source": [
    "x = [1, 2, 3]\n",
    "x.append(0)      # x is now [1, 2, 3, 0]\n",
    "y = x[-1]        # equals 0\n",
    "z = len(x)       # equals 4\n",
    "\n",
    "assert x == [1, 2, 3, 0]\n",
    "assert y == 0\n",
    "assert z == 4"
   ]
  },
  {
   "cell_type": "code",
   "execution_count": null,
   "metadata": {},
   "outputs": [],
   "source": [
    "x, y = [1, 2]    # now x is 1, y is 2\n",
    "\n",
    "assert x == 1\n",
    "assert y == 2"
   ]
  },
  {
   "cell_type": "code",
   "execution_count": null,
   "metadata": {},
   "outputs": [],
   "source": [
    "_, y = [1, 2]    # now y == 2, didn't care about the first element"
   ]
  },
  {
   "cell_type": "markdown",
   "metadata": {},
   "source": [
    "## Tuples"
   ]
  },
  {
   "cell_type": "markdown",
   "metadata": {},
   "source": [
    "Tuples are lists’ immutable cousins. Pretty much anything you can do to a list that doesn’t involve modifying it, you can do to a tuple. You specify a tuple by using parentheses (or nothing) instead of square brackets:"
   ]
  },
  {
   "cell_type": "code",
   "execution_count": null,
   "metadata": {},
   "outputs": [
    {
     "name": "stdout",
     "output_type": "stream",
     "text": [
      "cannot modify a tuple\n"
     ]
    }
   ],
   "source": [
    "my_list = [1, 2]\n",
    "my_tuple = (1, 2)\n",
    "other_tuple = 3, 4\n",
    "my_list[1] = 3      # my_list is now [1, 3]\n",
    "\n",
    "try:\n",
    "    my_tuple[1] = 3\n",
    "except TypeError:\n",
    "    print(\"cannot modify a tuple\")"
   ]
  },
  {
   "cell_type": "code",
   "execution_count": null,
   "metadata": {},
   "outputs": [],
   "source": [
    "def sum_and_product(x, y):\n",
    "    return (x + y), (x * y)\n",
    "\n",
    "sp = sum_and_product(2, 3)     # sp is (5, 6)\n",
    "s, p = sum_and_product(5, 10)  # s is 15, p is 50"
   ]
  },
  {
   "cell_type": "code",
   "execution_count": null,
   "metadata": {},
   "outputs": [],
   "source": [
    "x, y = 1, 2     # now x is 1, y is 2\n",
    "x, y = y, x     # Pythonic way to swap variables; now x is 2, y is 1\n",
    "\n",
    "assert x == 2\n",
    "assert y == 1"
   ]
  },
  {
   "cell_type": "markdown",
   "metadata": {},
   "source": [
    "## Dictionaries"
   ]
  },
  {
   "cell_type": "markdown",
   "metadata": {},
   "source": [
    "Another fundamental data structure is a dictionary, which associates *values* with *keys* and allows you to quickly retrieve the value corresponding to a given key:"
   ]
  },
  {
   "cell_type": "code",
   "execution_count": null,
   "metadata": {},
   "outputs": [],
   "source": [
    "empty_dict = {}                     # Pythonic\n",
    "empty_dict2 = dict()                # less Pythonic\n",
    "grades = {\"Kholed\": 80, \"Muhammad\": 95}    # dictionary literal"
   ]
  },
  {
   "cell_type": "code",
   "execution_count": null,
   "metadata": {},
   "outputs": [],
   "source": [
    "kholed_grade = grades[\"Kholed\"]        # equals 80\n",
    "\n",
    "\n",
    "assert kholed_grade == 80"
   ]
  },
  {
   "cell_type": "code",
   "execution_count": null,
   "metadata": {},
   "outputs": [
    {
     "name": "stdout",
     "output_type": "stream",
     "text": [
      "no grade for Someone!\n"
     ]
    }
   ],
   "source": [
    "try:\n",
    "    someone_grade = grades[\"Someone\"]\n",
    "except KeyError:\n",
    "    print(\"no grade for Someone!\")"
   ]
  },
  {
   "cell_type": "code",
   "execution_count": null,
   "metadata": {},
   "outputs": [],
   "source": [
    "kholed_has_grade = \"Kholed\" in grades     # True\n",
    "someone_has_grade = \"Someone\" in grades     # False\n",
    "\n",
    "\n",
    "assert kholed_has_grade\n",
    "assert not someone_has_grade"
   ]
  },
  {
   "cell_type": "code",
   "execution_count": null,
   "metadata": {},
   "outputs": [],
   "source": [
    "kholed_grade = grades.get(\"Kholed\", 0)   # equals 80\n",
    "someone_grade = grades.get(\"Someone\", 0)   # equals 0\n",
    "no_ones_grade = grades.get(\"No One\")  # default default is None\n",
    "\n",
    "\n",
    "assert kholed_grade == 80\n",
    "assert someone_grade == 0\n",
    "assert no_ones_grade is None"
   ]
  },
  {
   "cell_type": "code",
   "execution_count": null,
   "metadata": {
    "scrolled": false
   },
   "outputs": [
    {
     "name": "stdout",
     "output_type": "stream",
     "text": [
      "{'Kholed': 80, 'Muhammad': 99, 'Someone': 100}\n"
     ]
    }
   ],
   "source": [
    "grades[\"Muhammad\"] = 99                    # replaces the old value\n",
    "grades[\"Someone\"] = 100                  # adds a third entry\n",
    "num_students = len(grades)            # equals 3\n",
    "\n",
    "print(grades)\n",
    "assert num_students == 3"
   ]
  },
  {
   "cell_type": "code",
   "execution_count": null,
   "metadata": {},
   "outputs": [],
   "source": [
    "tweet = {\n",
    "    \"user\" : \"kholedlangsari\",\n",
    "    \"text\" : \"Big Data Engineering with Python is Awesome\",\n",
    "    \"retweet_count\" : 100,\n",
    "    \"hashtags\" : [\"#data\", \"#engineering\", \"#dataengineering\", \"python\", \"#awesome\", \"#let'sgo\"]\n",
    "}"
   ]
  },
  {
   "cell_type": "code",
   "execution_count": null,
   "metadata": {},
   "outputs": [],
   "source": [
    "tweet_keys   = tweet.keys()     # iterable for the keys\n",
    "tweet_values = tweet.values()   # iterable for the values\n",
    "tweet_items  = tweet.items()    # iterable for the (key, value) tuples\n",
    "\n",
    "\"user\" in tweet_keys            # True, but not Pythonic\n",
    "\"user\" in tweet                 # Pythonic way of checking for keys\n",
    "\"kholedlangsari\" in tweet_values      # True (slow but the only way to check)\n",
    "\n",
    "\n",
    "assert \"user\" in tweet_keys\n",
    "assert \"user\" in tweet\n",
    "assert \"kholedlangsari\" in tweet_values"
   ]
  },
  {
   "cell_type": "markdown",
   "metadata": {},
   "source": [
    "### defaultdict"
   ]
  },
  {
   "cell_type": "code",
   "execution_count": null,
   "metadata": {},
   "outputs": [],
   "source": [
    "document = [\"big\", \"data\", \"engineering\", \"with\", \"python\"]"
   ]
  },
  {
   "cell_type": "code",
   "execution_count": null,
   "metadata": {},
   "outputs": [],
   "source": [
    "word_counts = {}\n",
    "for word in document:\n",
    "    if word in word_counts:\n",
    "        word_counts[word] += 1\n",
    "    else:\n",
    "        word_counts[word] = 1"
   ]
  },
  {
   "cell_type": "code",
   "execution_count": null,
   "metadata": {},
   "outputs": [],
   "source": [
    "word_counts = {}\n",
    "for word in document:\n",
    "    try:\n",
    "        word_counts[word] += 1\n",
    "    except KeyError:\n",
    "        word_counts[word] = 1"
   ]
  },
  {
   "cell_type": "code",
   "execution_count": null,
   "metadata": {},
   "outputs": [],
   "source": [
    "word_counts = {}\n",
    "for word in document:\n",
    "    previous_count = word_counts.get(word, 0)\n",
    "    word_counts[word] = previous_count + 1"
   ]
  },
  {
   "cell_type": "code",
   "execution_count": null,
   "metadata": {},
   "outputs": [],
   "source": [
    "from collections import defaultdict\n",
    "\n",
    "word_counts = defaultdict(int)          # int() produces 0\n",
    "for word in document:\n",
    "    word_counts[word] += 1"
   ]
  },
  {
   "cell_type": "code",
   "execution_count": null,
   "metadata": {},
   "outputs": [],
   "source": [
    "dd_list = defaultdict(list)             # list() produces an empty list\n",
    "dd_list[2].append(1)                    # now dd_list contains {2: [1]}\n",
    "\n",
    "dd_dict = defaultdict(dict)             # dict() produces an empty dict\n",
    "dd_dict[\"Kholed\"][\"City\"] = \"Yala\"     # {\"Kholed\" : {\"City\": Yala\"}}\n",
    "\n",
    "dd_pair = defaultdict(lambda: [0, 0])\n",
    "dd_pair[2][1] = 1                       # now dd_pair contains {2: [0, 1]}"
   ]
  },
  {
   "cell_type": "markdown",
   "metadata": {},
   "source": [
    "## Counters"
   ]
  },
  {
   "cell_type": "markdown",
   "metadata": {},
   "source": [
    "A `Counter` turns a sequence of values into a `defaultdict(int)`-like object mapping keys to counts:"
   ]
  },
  {
   "cell_type": "code",
   "execution_count": null,
   "metadata": {},
   "outputs": [],
   "source": [
    "document = [\"big\", \"data\", \"engineering\", \"with\", \"big\", \"python\"]"
   ]
  },
  {
   "cell_type": "code",
   "execution_count": null,
   "metadata": {},
   "outputs": [],
   "source": [
    "from collections import Counter\n",
    "c = Counter([0, 1, 2, 0])          # c is (basically) {0: 2, 1: 1, 2: 1}"
   ]
  },
  {
   "cell_type": "code",
   "execution_count": null,
   "metadata": {},
   "outputs": [],
   "source": [
    "# recall, document is a list of words\n",
    "word_counts = Counter(document)"
   ]
  },
  {
   "cell_type": "code",
   "execution_count": null,
   "metadata": {},
   "outputs": [
    {
     "name": "stdout",
     "output_type": "stream",
     "text": [
      "big 2\n",
      "data 1\n",
      "engineering 1\n",
      "with 1\n",
      "python 1\n"
     ]
    }
   ],
   "source": [
    "# print the 10 most common words and their counts\n",
    "for word, count in word_counts.most_common(10):\n",
    "    print(word, count)"
   ]
  },
  {
   "cell_type": "markdown",
   "metadata": {},
   "source": [
    "## Sets"
   ]
  },
  {
   "cell_type": "markdown",
   "metadata": {},
   "source": [
    "Another useful data structure is set, which represents a collection of *distinct* elements. You can define a set by listing its elements between curly braces:"
   ]
  },
  {
   "cell_type": "code",
   "execution_count": null,
   "metadata": {},
   "outputs": [],
   "source": [
    "primes_below_10 = {2, 3, 5, 7}"
   ]
  },
  {
   "cell_type": "code",
   "execution_count": null,
   "metadata": {},
   "outputs": [],
   "source": [
    "s = set()\n",
    "s.add(1)       # s is now {1}\n",
    "s.add(2)       # s is now {1, 2}\n",
    "s.add(2)       # s is still {1, 2}\n",
    "x = len(s)     # equals 2\n",
    "y = 2 in s     # equals True\n",
    "z = 3 in s     # equals False"
   ]
  },
  {
   "cell_type": "code",
   "execution_count": null,
   "metadata": {},
   "outputs": [
    {
     "data": {
      "text/plain": [
       "False"
      ]
     },
     "execution_count": 152,
     "metadata": {},
     "output_type": "execute_result"
    }
   ],
   "source": [
    "hundreds_of_other_words = []  # required for the below code to run\n",
    "\n",
    "stopwords_list = [\"a\", \"an\", \"at\"] + hundreds_of_other_words + [\"yet\", \"you\"]\n",
    "\n",
    "\"zip\" in stopwords_list     # False, but have to check every element\n",
    "\n",
    "stopwords_set = set(stopwords_list)\n",
    "\"zip\" in stopwords_set      # very fast to check"
   ]
  },
  {
   "cell_type": "code",
   "execution_count": null,
   "metadata": {},
   "outputs": [],
   "source": [
    "item_list = [1, 2, 3, 1, 2, 3]\n",
    "num_items = len(item_list)                # 6\n",
    "item_set = set(item_list)                 # {1, 2, 3}\n",
    "num_distinct_items = len(item_set)        # 3\n",
    "distinct_item_list = list(item_set)       # [1, 2, 3]\n",
    "\n",
    "\n",
    "assert num_items == 6\n",
    "assert item_set == {1, 2, 3}\n",
    "assert num_distinct_items == 3\n",
    "assert distinct_item_list == [1, 2, 3]"
   ]
  },
  {
   "cell_type": "markdown",
   "metadata": {},
   "source": [
    "## Control Flow"
   ]
  },
  {
   "cell_type": "markdown",
   "metadata": {},
   "source": [
    "As in most programming languages, you can perform an action conditionally using `if` and `for` "
   ]
  },
  {
   "cell_type": "code",
   "execution_count": null,
   "metadata": {},
   "outputs": [],
   "source": [
    "if 1 > 2:\n",
    "    message = \"if only 1 were greater than two...\"\n",
    "elif 1 > 3:\n",
    "    message = \"elif stands for 'else if'\"\n",
    "else:\n",
    "    message = \"when all else fails use else (if you want to)\""
   ]
  },
  {
   "cell_type": "code",
   "execution_count": null,
   "metadata": {},
   "outputs": [],
   "source": [
    "parity = \"even\" if x % 2 == 0 else \"odd\""
   ]
  },
  {
   "cell_type": "code",
   "execution_count": null,
   "metadata": {},
   "outputs": [
    {
     "name": "stdout",
     "output_type": "stream",
     "text": [
      "0 is less than 10\n",
      "1 is less than 10\n",
      "2 is less than 10\n",
      "3 is less than 10\n",
      "4 is less than 10\n",
      "5 is less than 10\n",
      "6 is less than 10\n",
      "7 is less than 10\n",
      "8 is less than 10\n",
      "9 is less than 10\n"
     ]
    }
   ],
   "source": [
    "x = 0\n",
    "while x < 10:\n",
    "    print(f\"{x} is less than 10\")\n",
    "    x += 1"
   ]
  },
  {
   "cell_type": "code",
   "execution_count": null,
   "metadata": {},
   "outputs": [
    {
     "name": "stdout",
     "output_type": "stream",
     "text": [
      "0 is less than 10\n",
      "1 is less than 10\n",
      "2 is less than 10\n",
      "3 is less than 10\n",
      "4 is less than 10\n",
      "5 is less than 10\n",
      "6 is less than 10\n",
      "7 is less than 10\n",
      "8 is less than 10\n",
      "9 is less than 10\n"
     ]
    }
   ],
   "source": [
    "# range(10) is the numbers 0, 1, ..., 9\n",
    "for x in range(10):\n",
    "    print(f\"{x} is less than 10\")"
   ]
  },
  {
   "cell_type": "code",
   "execution_count": null,
   "metadata": {},
   "outputs": [
    {
     "name": "stdout",
     "output_type": "stream",
     "text": [
      "0\n",
      "1\n",
      "2\n",
      "4\n"
     ]
    }
   ],
   "source": [
    "for x in range(10):\n",
    "    if x == 3:\n",
    "        continue  # go immediately to the next iteration\n",
    "    if x == 5:\n",
    "        break     # quit the loop entirely\n",
    "    print(x)"
   ]
  },
  {
   "cell_type": "markdown",
   "metadata": {},
   "source": [
    "## Truthiness"
   ]
  },
  {
   "cell_type": "markdown",
   "metadata": {},
   "source": [
    "Booleans in Python work as in most other languages, except that they’re capitalized:"
   ]
  },
  {
   "cell_type": "code",
   "execution_count": null,
   "metadata": {},
   "outputs": [],
   "source": [
    "one_is_less_than_two = 1 < 2          # equals True\n",
    "true_equals_false = True == False     # equals False\n",
    "\n",
    "\n",
    "assert one_is_less_than_two\n",
    "assert not true_equals_false"
   ]
  },
  {
   "cell_type": "code",
   "execution_count": null,
   "metadata": {},
   "outputs": [],
   "source": [
    "x = None\n",
    "assert x == None, \"this is the not the Pythonic way to check for None\"\n",
    "assert x is None, \"this is the Pythonic way to check for None\""
   ]
  },
  {
   "cell_type": "code",
   "execution_count": null,
   "metadata": {},
   "outputs": [],
   "source": [
    "def some_function_that_returns_a_string():\n",
    "    return \"\""
   ]
  },
  {
   "cell_type": "code",
   "execution_count": null,
   "metadata": {},
   "outputs": [],
   "source": [
    "s = some_function_that_returns_a_string()\n",
    "if s:\n",
    "    first_char = s[0]\n",
    "else:\n",
    "    first_char = \"\""
   ]
  },
  {
   "cell_type": "code",
   "execution_count": null,
   "metadata": {},
   "outputs": [],
   "source": [
    "first_char = s and s[0]"
   ]
  },
  {
   "cell_type": "code",
   "execution_count": null,
   "metadata": {},
   "outputs": [],
   "source": [
    "safe_x = x or 0"
   ]
  },
  {
   "cell_type": "code",
   "execution_count": null,
   "metadata": {},
   "outputs": [],
   "source": [
    "safe_x = x if x is not None else 0"
   ]
  },
  {
   "cell_type": "code",
   "execution_count": null,
   "metadata": {},
   "outputs": [
    {
     "data": {
      "text/plain": [
       "False"
      ]
     },
     "execution_count": 166,
     "metadata": {},
     "output_type": "execute_result"
    }
   ],
   "source": [
    "all([True, 1, {3}])   # True, all are truthy\n",
    "all([True, 1, {}])    # False, {} is falsy\n",
    "any([True, 1, {}])    # True, True is truthy\n",
    "all([])               # True, no falsy elements in the list\n",
    "any([])               # False, no truthy elements in the list"
   ]
  },
  {
   "cell_type": "markdown",
   "metadata": {},
   "source": [
    "## Sorting"
   ]
  },
  {
   "cell_type": "markdown",
   "metadata": {},
   "source": [
    "Every Python list has a `sort` method that sorts it in place. If you don’t want to mess up your list, you can use the `sorted` function, which returns a new list:"
   ]
  },
  {
   "cell_type": "code",
   "execution_count": null,
   "metadata": {},
   "outputs": [],
   "source": [
    "x = [4, 1, 2, 3]\n",
    "y = sorted(x)     # y is [1, 2, 3, 4], x is unchanged\n",
    "x.sort()          # now x is [1, 2, 3, 4]"
   ]
  },
  {
   "cell_type": "code",
   "execution_count": null,
   "metadata": {},
   "outputs": [],
   "source": [
    "\n",
    "# sort the list by absolute value from largest to smallest\n",
    "x = sorted([-4, 1, -2, 3], key=abs, reverse=True)  # is [-4, 3, -2, 1]\n",
    "\n",
    "# sort the words and counts from highest count to lowest\n",
    "wc = sorted(word_counts.items(),\n",
    "            key=lambda word_and_count: word_and_count[1],\n",
    "            reverse=True)"
   ]
  },
  {
   "cell_type": "markdown",
   "metadata": {},
   "source": [
    "## List Comprehensions"
   ]
  },
  {
   "cell_type": "markdown",
   "metadata": {},
   "source": [
    "Frequently, you’ll want to transform a list into another list by choosing only certain elements, by transforming elements, or both. The Pythonic way to do this is with *list comprehensions*:"
   ]
  },
  {
   "cell_type": "code",
   "execution_count": null,
   "metadata": {},
   "outputs": [],
   "source": [
    "even_numbers = [x for x in range(5) if x % 2 == 0]  # [0, 2, 4]\n",
    "squares      = [x * x for x in range(5)]            # [0, 1, 4, 9, 16]\n",
    "even_squares = [x * x for x in even_numbers]        # [0, 4, 16]\n",
    "\n",
    "\n",
    "assert even_numbers == [0, 2, 4]\n",
    "assert squares == [0, 1, 4, 9, 16]\n",
    "assert even_squares == [0, 4, 16]"
   ]
  },
  {
   "cell_type": "code",
   "execution_count": null,
   "metadata": {},
   "outputs": [],
   "source": [
    "square_dict = {x: x * x for x in range(5)}  # {0: 0, 1: 1, 2: 4, 3: 9, 4: 16}\n",
    "square_set  = {x * x for x in [1, -1]}      # {1}\n",
    "\n",
    "\n",
    "assert square_dict == {0: 0, 1: 1, 2: 4, 3: 9, 4: 16}\n",
    "assert square_set == {1}"
   ]
  },
  {
   "cell_type": "code",
   "execution_count": null,
   "metadata": {},
   "outputs": [],
   "source": [
    "zeros = [0 for _ in even_numbers]      # has the same length as even_numbers\n",
    "\n",
    "\n",
    "assert zeros == [0, 0, 0]"
   ]
  },
  {
   "cell_type": "code",
   "execution_count": null,
   "metadata": {},
   "outputs": [],
   "source": [
    "pairs = [(x, y)\n",
    "         for x in range(10)\n",
    "         for y in range(10)]   # 100 pairs (0,0) (0,1) ... (9,8), (9,9)\n",
    "\n",
    "\n",
    "assert len(pairs) == 100"
   ]
  },
  {
   "cell_type": "code",
   "execution_count": null,
   "metadata": {},
   "outputs": [],
   "source": [
    "increasing_pairs = [(x, y)                       # only pairs with x < y,\n",
    "                    for x in range(10)           # range(lo, hi) equals\n",
    "                    for y in range(x + 1, 10)]   # [lo, lo + 1, ..., hi - 1]\n",
    "\n",
    "\n",
    "assert len(increasing_pairs) == 9 + 8 + 7 + 6 + 5 + 4 + 3 + 2 + 1\n",
    "assert all(x < y for x, y in increasing_pairs)"
   ]
  },
  {
   "cell_type": "markdown",
   "metadata": {},
   "source": [
    "## Automated Testing and assert"
   ]
  },
  {
   "cell_type": "markdown",
   "metadata": {},
   "source": [
    "As data engineer, we’ll be writing a lot of code. How can we be confident our code is correct? One way is with *types* (discussed shortly), but another way is with *automated tests*."
   ]
  },
  {
   "cell_type": "code",
   "execution_count": null,
   "metadata": {},
   "outputs": [],
   "source": [
    "assert 1 + 1 == 2\n",
    "assert 1 + 1 == 2, \"1 + 1 should equal 2 but didn't\""
   ]
  },
  {
   "cell_type": "code",
   "execution_count": null,
   "metadata": {},
   "outputs": [],
   "source": [
    "def smallest_item(xs):\n",
    "    return min(xs)\n",
    "\n",
    "assert smallest_item([10, 20, 5, 40]) == 5\n",
    "assert smallest_item([1, 0, -1, 2]) == -1"
   ]
  },
  {
   "cell_type": "code",
   "execution_count": null,
   "metadata": {},
   "outputs": [],
   "source": [
    "def smallest_item(xs):\n",
    "    assert xs, \"empty list has no smallest item\"\n",
    "    return min(xs)"
   ]
  },
  {
   "cell_type": "markdown",
   "metadata": {},
   "source": [
    "## Object-Oriented Programming"
   ]
  },
  {
   "cell_type": "markdown",
   "metadata": {},
   "source": [
    "Like many languages, Python allows you to define classes that encapsulate data and the functions that operate on them. We’ll use them sometimes to make our code cleaner and simpler. It’s probably simplest to explain them by constructing a heavily annotated example."
   ]
  },
  {
   "cell_type": "code",
   "execution_count": null,
   "metadata": {},
   "outputs": [],
   "source": [
    "## define class\n",
    "class CountingClicker:\n",
    "    \"\"\"A class can/should have a docstring, just like a function\"\"\"\n",
    "\n",
    "    def __init__(self, count = 0):\n",
    "        self.count = count\n",
    "\n",
    "    def __repr__(self):\n",
    "        return f\"CountingClicker(count={self.count})\"\n",
    "\n",
    "    def click(self, num_times = 1):\n",
    "        \"\"\"Click the clicker some number of times.\"\"\"\n",
    "        self.count += num_times\n",
    "\n",
    "    def read(self):\n",
    "        return self.count\n",
    "\n",
    "    def reset(self):\n",
    "        self.count = 0"
   ]
  },
  {
   "cell_type": "code",
   "execution_count": null,
   "metadata": {},
   "outputs": [],
   "source": [
    "# create object\n",
    "clicker = CountingClicker()\n",
    "assert clicker.read() == 0, \"clicker should start with count 0\"\n",
    "clicker.click()\n",
    "clicker.click()\n",
    "assert clicker.read() == 2, \"after two clicks, clicker should have count 2\"\n",
    "clicker.reset()\n",
    "assert clicker.read() == 0, \"after reset, clicker should be back to 0\""
   ]
  },
  {
   "cell_type": "code",
   "execution_count": null,
   "metadata": {},
   "outputs": [],
   "source": [
    "# A subclass inherits all the behavior of its parent class.\n",
    "class NoResetClicker(CountingClicker):\n",
    "    # This class has all the same methods as CountingClicker\n",
    "\n",
    "    # Except that it has a reset method that does nothing.\n",
    "    def reset(self):\n",
    "        pass"
   ]
  },
  {
   "cell_type": "code",
   "execution_count": null,
   "metadata": {},
   "outputs": [],
   "source": [
    "clicker2 = NoResetClicker()\n",
    "assert clicker2.read() == 0\n",
    "clicker2.click()\n",
    "assert clicker2.read() == 1\n",
    "clicker2.reset()\n",
    "assert clicker2.read() == 1, \"reset shouldn't do anything\""
   ]
  },
  {
   "cell_type": "markdown",
   "metadata": {},
   "source": [
    "## Iterables and Generators"
   ]
  },
  {
   "cell_type": "markdown",
   "metadata": {},
   "source": [
    "One nice thing about a list is that you can retrieve specific elements by their indices. But you don’t always need this! A list of a billion numbers takes up a lot of memory. If you only want the elements one at a time, there’s no good reason to keep them all around. If you only end up needing the first several elements, generating the entire billion is hugely wasteful.\n",
    "\n",
    "Often all we need is to iterate over the collection using `for` and `in`. In this case we can create *generators*, which can be iterated over just like lists but generate their values lazily on demand.\n",
    "\n",
    "One way to create generators is with functions and the `yield` operator:"
   ]
  },
  {
   "cell_type": "code",
   "execution_count": null,
   "metadata": {},
   "outputs": [],
   "source": [
    "def generate_range(n):\n",
    "    i = 0\n",
    "    while i < n:\n",
    "        yield i   # every call to yield produces a value of the generator\n",
    "        i += 1"
   ]
  },
  {
   "cell_type": "code",
   "execution_count": null,
   "metadata": {},
   "outputs": [
    {
     "name": "stdout",
     "output_type": "stream",
     "text": [
      "i: 0\n",
      "i: 1\n",
      "i: 2\n",
      "i: 3\n",
      "i: 4\n",
      "i: 5\n",
      "i: 6\n",
      "i: 7\n",
      "i: 8\n",
      "i: 9\n"
     ]
    }
   ],
   "source": [
    "for i in generate_range(10):\n",
    "    print(f\"i: {i}\")"
   ]
  },
  {
   "cell_type": "code",
   "execution_count": null,
   "metadata": {},
   "outputs": [],
   "source": [
    "def natural_numbers():\n",
    "    \"\"\"returns 1, 2, 3, ...\"\"\"\n",
    "    n = 1\n",
    "    while True:\n",
    "        yield n\n",
    "        n += 1"
   ]
  },
  {
   "cell_type": "code",
   "execution_count": null,
   "metadata": {},
   "outputs": [],
   "source": [
    "evens_below_20 = (i for i in generate_range(20) if i % 2 == 0)"
   ]
  },
  {
   "cell_type": "code",
   "execution_count": null,
   "metadata": {},
   "outputs": [],
   "source": [
    "# None of these computations *does* anything until we iterate\n",
    "data = natural_numbers()\n",
    "evens = (x for x in data if x % 2 == 0)\n",
    "even_squares = (x ** 2 for x in evens)\n",
    "even_squares_ending_in_six = (x for x in even_squares if x % 10 == 6)\n",
    "# and so on\n",
    "\n",
    "assert next(even_squares_ending_in_six) == 16\n",
    "assert next(even_squares_ending_in_six) == 36\n",
    "assert next(even_squares_ending_in_six) == 196"
   ]
  },
  {
   "cell_type": "code",
   "execution_count": null,
   "metadata": {},
   "outputs": [
    {
     "name": "stdout",
     "output_type": "stream",
     "text": [
      "name 0 is Alice\n",
      "name 1 is Bob\n",
      "name 2 is Charlie\n",
      "name 3 is Debbie\n",
      "name 0 is Alice\n",
      "name 1 is Bob\n",
      "name 2 is Charlie\n",
      "name 3 is Debbie\n",
      "name 0 is Alice\n",
      "name 1 is Bob\n",
      "name 2 is Charlie\n",
      "name 3 is Debbie\n"
     ]
    }
   ],
   "source": [
    "names = [\"Alice\", \"Bob\", \"Charlie\", \"Debbie\"]\n",
    "\n",
    "# not Pythonic\n",
    "for i in range(len(names)):\n",
    "    print(f\"name {i} is {names[i]}\")\n",
    "\n",
    "# also not Pythonic\n",
    "i = 0\n",
    "for name in names:\n",
    "    print(f\"name {i} is {names[i]}\")\n",
    "    i += 1\n",
    "\n",
    "# Pythonic\n",
    "for i, name in enumerate(names):\n",
    "    print(f\"name {i} is {name}\")"
   ]
  },
  {
   "cell_type": "markdown",
   "metadata": {},
   "source": [
    "## Randomness"
   ]
  },
  {
   "cell_type": "markdown",
   "metadata": {},
   "source": [
    "As we learn data engineering, we will frequently need to generate random numbers, which we can do with the `random` module:"
   ]
  },
  {
   "cell_type": "code",
   "execution_count": null,
   "metadata": {},
   "outputs": [
    {
     "name": "stdout",
     "output_type": "stream",
     "text": [
      "[0.5714025946899135, 0.4288890546751146, 0.5780913011344704, 0.20609823213950174]\n"
     ]
    }
   ],
   "source": [
    "import random\n",
    "random.seed(10)  # this ensures we get the same results every time\n",
    "\n",
    "four_uniform_randoms = [random.random() for _ in range(4)]\n",
    "print(four_uniform_randoms)\n",
    "\n",
    "# [0.5714025946899135,       # random.random() produces numbers\n",
    "#  0.4288890546751146,       # uniformly between 0 and 1\n",
    "#  0.5780913011344704,       # it's the random function we'll use\n",
    "#  0.20609823213950174]      # most often"
   ]
  },
  {
   "cell_type": "code",
   "execution_count": null,
   "metadata": {},
   "outputs": [
    {
     "name": "stdout",
     "output_type": "stream",
     "text": [
      "0.5714025946899135\n",
      "0.5714025946899135\n"
     ]
    }
   ],
   "source": [
    "random.seed(10)         # set the seed to 10\n",
    "print(random.random())  # 0.57140259469\n",
    "random.seed(10)         # reset the seed to 10\n",
    "print(random.random())  # 0.57140259469 again"
   ]
  },
  {
   "cell_type": "code",
   "execution_count": null,
   "metadata": {},
   "outputs": [
    {
     "data": {
      "text/plain": [
       "4"
      ]
     },
     "execution_count": 189,
     "metadata": {},
     "output_type": "execute_result"
    }
   ],
   "source": [
    "random.randrange(10)    # choose randomly from range(10) = [0, 1, ..., 9]\n",
    "random.randrange(3, 6)  # choose randomly from range(3, 6) = [3, 4, 5]"
   ]
  },
  {
   "cell_type": "code",
   "execution_count": null,
   "metadata": {},
   "outputs": [
    {
     "name": "stdout",
     "output_type": "stream",
     "text": [
      "[5, 6, 9, 2, 3, 7, 8, 4, 1, 10]\n"
     ]
    }
   ],
   "source": [
    "up_to_ten = [1, 2, 3, 4, 5, 6, 7, 8, 9, 10]\n",
    "random.shuffle(up_to_ten)\n",
    "print(up_to_ten)\n",
    "# [7, 2, 6, 8, 9, 4, 10, 1, 3, 5]   (your results will probably be different)"
   ]
  },
  {
   "cell_type": "code",
   "execution_count": null,
   "metadata": {},
   "outputs": [
    {
     "name": "stdout",
     "output_type": "stream",
     "text": [
      "Bob\n"
     ]
    }
   ],
   "source": [
    "my_best_friend = random.choice([\"Alice\", \"Bob\", \"Charlie\"])     # \"Bob\" for me\n",
    "print(my_best_friend)"
   ]
  },
  {
   "cell_type": "code",
   "execution_count": null,
   "metadata": {},
   "outputs": [],
   "source": [
    "lottery_numbers = range(60)\n",
    "winning_numbers = random.sample(lottery_numbers, 6)  # [16, 36, 10, 6, 25, 9]"
   ]
  },
  {
   "cell_type": "code",
   "execution_count": null,
   "metadata": {},
   "outputs": [
    {
     "name": "stdout",
     "output_type": "stream",
     "text": [
      "[2, 9, 5, 6]\n"
     ]
    }
   ],
   "source": [
    "four_with_replacement = [random.choice(range(10)) for _ in range(4)]\n",
    "print(four_with_replacement)  # [9, 4, 4, 2]"
   ]
  },
  {
   "cell_type": "markdown",
   "metadata": {},
   "source": [
    "## Regular Expressions"
   ]
  },
  {
   "cell_type": "markdown",
   "metadata": {},
   "source": [
    "Regular expressions provide a way of searching text. They are incredibly useful, but also fairly complicated—so much so that there are entire books written about them. We will get into their details the few times we encounter them; here are a few examples of how to use them in Python:"
   ]
  },
  {
   "cell_type": "code",
   "execution_count": null,
   "metadata": {},
   "outputs": [],
   "source": [
    "import re\n",
    "\n",
    "re_examples = [                        # all of these are true, because\n",
    "    not re.match(\"a\", \"cat\"),              #  'cat' doesn't start with 'a'\n",
    "    re.search(\"a\", \"cat\"),                 #  'cat' has an 'a' in it\n",
    "    not re.search(\"c\", \"dog\"),             #  'dog' doesn't have a 'c' in it\n",
    "    3 == len(re.split(\"[ab]\", \"carbs\")),   #  split on a or b to ['c','r','s']\n",
    "    \"R-D-\" == re.sub(\"[0-9]\", \"-\", \"R2D2\") #  replace digits with dashes\n",
    "    ]\n",
    "\n",
    "assert all(re_examples), \"all the regex examples should be True\""
   ]
  },
  {
   "cell_type": "markdown",
   "metadata": {},
   "source": [
    "## zip and Argument Unpacking"
   ]
  },
  {
   "cell_type": "markdown",
   "metadata": {},
   "source": [
    "Often we will need to `zip` two or more iterables together. The `zip` function transforms multiple iterables into a single iterable of tuples of corresponding function:"
   ]
  },
  {
   "cell_type": "code",
   "execution_count": null,
   "metadata": {},
   "outputs": [],
   "source": [
    "list1 = ['a', 'b', 'c']\n",
    "list2 = [1, 2, 3]\n",
    "\n",
    "# zip is lazy, so you have to do something like the following\n",
    "[pair for pair in zip(list1, list2)]    # is [('a', 1), ('b', 2), ('c', 3)]\n",
    "\n",
    "\n",
    "assert [pair for pair in zip(list1, list2)] == [('a', 1), ('b', 2), ('c', 3)]"
   ]
  },
  {
   "cell_type": "code",
   "execution_count": null,
   "metadata": {},
   "outputs": [],
   "source": [
    "pairs = [('a', 1), ('b', 2), ('c', 3)]\n",
    "letters, numbers = zip(*pairs)"
   ]
  },
  {
   "cell_type": "code",
   "execution_count": null,
   "metadata": {},
   "outputs": [],
   "source": [
    "letters, numbers = zip(('a', 1), ('b', 2), ('c', 3))"
   ]
  },
  {
   "cell_type": "code",
   "execution_count": null,
   "metadata": {},
   "outputs": [
    {
     "name": "stdout",
     "output_type": "stream",
     "text": [
      "add expects two inputs\n"
     ]
    },
    {
     "data": {
      "text/plain": [
       "3"
      ]
     },
     "execution_count": 198,
     "metadata": {},
     "output_type": "execute_result"
    }
   ],
   "source": [
    "def add(a, b): return a + b\n",
    "\n",
    "add(1, 2)      # returns 3\n",
    "try:\n",
    "    add([1, 2])\n",
    "except TypeError:\n",
    "    print(\"add expects two inputs\")\n",
    "add(*[1, 2])   # returns 3"
   ]
  },
  {
   "cell_type": "markdown",
   "metadata": {},
   "source": [
    "## args and kwargs"
   ]
  },
  {
   "cell_type": "markdown",
   "metadata": {},
   "source": [
    "Let’s say we want to create a higher-order function that takes as input some function `f` and returns a new function that for any input returns twice the value of `f`:"
   ]
  },
  {
   "cell_type": "code",
   "execution_count": null,
   "metadata": {},
   "outputs": [],
   "source": [
    "def doubler(f):\n",
    "    # Here we define a new function that keeps a reference to f\n",
    "    def g(x):\n",
    "        return 2 * f(x)\n",
    "\n",
    "    # And return that new function.\n",
    "    return g"
   ]
  },
  {
   "cell_type": "code",
   "execution_count": null,
   "metadata": {},
   "outputs": [],
   "source": [
    "def f1(x):\n",
    "    return x + 1\n",
    "\n",
    "g = doubler(f1)\n",
    "assert g(3) == 8,  \"(3 + 1) * 2 should equal 8\"\n",
    "assert g(-1) == 0, \"(-1 + 1) * 2 should equal 0\""
   ]
  },
  {
   "cell_type": "code",
   "execution_count": null,
   "metadata": {},
   "outputs": [
    {
     "name": "stdout",
     "output_type": "stream",
     "text": [
      "as defined, g only takes one argument\n"
     ]
    }
   ],
   "source": [
    "def f2(x, y):\n",
    "    return x + y\n",
    "\n",
    "g = doubler(f2)\n",
    "try:\n",
    "    g(1, 2)\n",
    "except TypeError:\n",
    "    print(\"as defined, g only takes one argument\")"
   ]
  },
  {
   "cell_type": "code",
   "execution_count": null,
   "metadata": {},
   "outputs": [
    {
     "name": "stdout",
     "output_type": "stream",
     "text": [
      "unnamed args: (1, 2)\n",
      "keyword args: {'key': 'word', 'key2': 'word2'}\n"
     ]
    }
   ],
   "source": [
    "def magic(*args, **kwargs):\n",
    "    print(\"unnamed args:\", args)\n",
    "    print(\"keyword args:\", kwargs)\n",
    "\n",
    "magic(1, 2, key=\"word\", key2=\"word2\")\n",
    "\n",
    "# prints\n",
    "#  unnamed args: (1, 2)\n",
    "#  keyword args: {'key': 'word', 'key2': 'word2'}"
   ]
  },
  {
   "cell_type": "code",
   "execution_count": null,
   "metadata": {},
   "outputs": [],
   "source": [
    "def other_way_magic(x, y, z):\n",
    "    return x + y + z\n",
    "\n",
    "x_y_list = [1, 2]\n",
    "z_dict = {\"z\": 3}\n",
    "assert other_way_magic(*x_y_list, **z_dict) == 6, \"1 + 2 + 3 should be 6\""
   ]
  },
  {
   "cell_type": "code",
   "execution_count": null,
   "metadata": {},
   "outputs": [],
   "source": [
    "def doubler_correct(f):\n",
    "    \"\"\"works no matter what kind of inputs f expects\"\"\"\n",
    "    def g(*args, **kwargs):\n",
    "        \"\"\"whatever arguments g is supplied, pass them through to f\"\"\"\n",
    "        return 2 * f(*args, **kwargs)\n",
    "    return g\n",
    "\n",
    "g = doubler_correct(f2)\n",
    "assert g(1, 2) == 6, \"doubler should work now\""
   ]
  },
  {
   "cell_type": "markdown",
   "metadata": {},
   "source": [
    "## Type Annotations"
   ]
  },
  {
   "cell_type": "markdown",
   "metadata": {},
   "source": [
    "Python is a *dynamically typed* language. That means that it in general it doesn’t care about the types of objects we use, as long as we use them in valid ways:"
   ]
  },
  {
   "cell_type": "code",
   "execution_count": null,
   "metadata": {},
   "outputs": [
    {
     "name": "stdout",
     "output_type": "stream",
     "text": [
      "cannot add an int to a string\n"
     ]
    }
   ],
   "source": [
    "## dynamically typed\n",
    "def add(a, b):\n",
    "    return a + b\n",
    "\n",
    "assert add(10, 5) == 15,                  \"+ is valid for numbers\"\n",
    "assert add([1, 2], [3]) == [1, 2, 3],     \"+ is valid for lists\"\n",
    "assert add(\"hi \", \"there\") == \"hi there\", \"+ is valid for strings\"\n",
    "\n",
    "try:\n",
    "    add(10, \"five\")\n",
    "except TypeError:\n",
    "    print(\"cannot add an int to a string\")"
   ]
  },
  {
   "cell_type": "code",
   "execution_count": null,
   "metadata": {},
   "outputs": [
    {
     "data": {
      "text/plain": [
       "'hi there'"
      ]
     },
     "execution_count": 206,
     "metadata": {},
     "output_type": "execute_result"
    }
   ],
   "source": [
    "## statically typed\n",
    "def add(a: int, b: int) -> int:\n",
    "    return a + b\n",
    "\n",
    "add(10, 5)           # you'd like this to be OK\n",
    "add(\"hi \", \"there\")  # you'd like this to be not OK"
   ]
  },
  {
   "cell_type": "code",
   "execution_count": null,
   "metadata": {},
   "outputs": [],
   "source": [
    "# This is not in the book, but it's needed\n",
    "# to make the `dot_product` stubs not error out.\n",
    "from typing import List\n",
    "Vector = List[float]\n",
    "\n",
    "def dot_product(x, y): ...\n",
    "\n",
    "# we have not yet defined Vector, but imagine we had\n",
    "def dot_product(x: Vector, y: Vector) -> float: ...\n",
    "\n",
    "from typing import Union\n",
    "\n",
    "def secretly_ugly_function(value, operation): ...\n",
    "\n",
    "def ugly_function(value: int, operation: Union[str, int, float, bool]) -> int:\n",
    "    ...\n",
    "\n",
    "def total(xs: list) -> float:\n",
    "    return sum(xs)\n",
    "\n",
    "from typing import List  # note capital L\n",
    "\n",
    "def total(xs: List[float]) -> float:\n",
    "    return sum(xs)\n",
    "\n",
    "# This is how to type-annotate variables when you define them.\n",
    "# But this is unnecessary; it's \"obvious\" x is an int.\n",
    "x: int = 5\n",
    "\n",
    "values = []         # what's my type?\n",
    "best_so_far = None  # what's my type?\n",
    "\n",
    "from typing import Optional\n",
    "\n",
    "values: List[int] = []\n",
    "best_so_far: Optional[float] = None  # allowed to be either a float or None\n",
    "\n",
    "lazy = True\n",
    "\n",
    "# the type annotations in this snippet are all unnecessary\n",
    "from typing import Dict, Iterable, Tuple\n",
    "\n",
    "# keys are strings, values are ints\n",
    "counts: Dict[str, int] = {'data': 1, 'engineering': 2}\n",
    "\n",
    "# lists and generators are both iterable\n",
    "if lazy:\n",
    "    evens: Iterable[int] = (x for x in range(10) if x % 2 == 0)\n",
    "else:\n",
    "    evens = [0, 2, 4, 6, 8]\n",
    "\n",
    "# tuples specify a type for each element\n",
    "triple: Tuple[int, float, int] = (10, 2.3, 5)\n",
    "\n",
    "from typing import Callable\n",
    "\n",
    "# The type hint says that repeater is a function that takes\n",
    "# two arguments, a string and an int, and returns a string.\n",
    "def twice(repeater: Callable[[str, int], str], s: str) -> str:\n",
    "    return repeater(s, 2)\n",
    "\n",
    "def comma_repeater(s: str, n: int) -> str:\n",
    "    n_copies = [s for _ in range(n)]\n",
    "    return ', '.join(n_copies)\n",
    "\n",
    "assert twice(comma_repeater, \"type hints\") == \"type hints, type hints\"\n",
    "\n",
    "Number = int\n",
    "Numbers = List[Number]\n",
    "\n",
    "def total(xs: Numbers) -> Number:\n",
    "    return sum(xs)"
   ]
  },
  {
   "cell_type": "markdown",
   "metadata": {},
   "source": [
    "# An Application of Python  for Big Data Engineering"
   ]
  },
  {
   "cell_type": "markdown",
   "metadata": {},
   "source": [
    "## Writing and reading files in Python"
   ]
  },
  {
   "cell_type": "markdown",
   "metadata": {},
   "source": [
    "### working with data need libraries"
   ]
  },
  {
   "cell_type": "markdown",
   "metadata": {},
   "source": [
    "install `Faker` package\n",
    "\n",
    "`conda install -c conda-forge faker`\n",
    "\n",
    "or\n",
    "\n",
    "`pip install Faker`"
   ]
  },
  {
   "cell_type": "markdown",
   "metadata": {},
   "source": [
    "### Writing and reading CSVs"
   ]
  },
  {
   "cell_type": "markdown",
   "metadata": {},
   "source": [
    "Writing CSVs using the Python CSV Library. Create 1,000 records data and save to CSV format"
   ]
  },
  {
   "cell_type": "code",
   "execution_count": null,
   "metadata": {},
   "outputs": [
    {
     "ename": "ModuleNotFoundError",
     "evalue": "No module named 'faker'",
     "output_type": "error",
     "traceback": [
      "\u001b[1;31m---------------------------------------------------------------------------\u001b[0m",
      "\u001b[1;31mModuleNotFoundError\u001b[0m                       Traceback (most recent call last)",
      "\u001b[1;32m<ipython-input-208-7bb711e95f41>\u001b[0m in \u001b[0;36m<module>\u001b[1;34m\u001b[0m\n\u001b[1;32m----> 1\u001b[1;33m \u001b[1;32mfrom\u001b[0m \u001b[0mfaker\u001b[0m \u001b[1;32mimport\u001b[0m \u001b[0mFaker\u001b[0m\u001b[1;33m\u001b[0m\u001b[1;33m\u001b[0m\u001b[0m\n\u001b[0m\u001b[0;32m      2\u001b[0m \u001b[1;32mimport\u001b[0m \u001b[0mcsv\u001b[0m\u001b[1;33m\u001b[0m\u001b[1;33m\u001b[0m\u001b[0m\n\u001b[0;32m      3\u001b[0m \u001b[1;33m\u001b[0m\u001b[0m\n\u001b[0;32m      4\u001b[0m \u001b[0moutput\u001b[0m\u001b[1;33m=\u001b[0m\u001b[0mopen\u001b[0m\u001b[1;33m(\u001b[0m\u001b[1;34m'data.csv'\u001b[0m\u001b[1;33m,\u001b[0m\u001b[1;34m'w'\u001b[0m\u001b[1;33m)\u001b[0m\u001b[1;33m\u001b[0m\u001b[1;33m\u001b[0m\u001b[0m\n\u001b[0;32m      5\u001b[0m \u001b[1;33m\u001b[0m\u001b[0m\n",
      "\u001b[1;31mModuleNotFoundError\u001b[0m: No module named 'faker'"
     ]
    }
   ],
   "source": [
    "from faker import Faker\n",
    "import csv\n",
    "\n",
    "output=open('data.csv','w')\n",
    "\n",
    "fake=Faker()\n",
    "header=['name','age','street','city','state','zip','lng','lat']\n",
    "mywriter=csv.writer(output)\n",
    "mywriter.writerow(header)\n",
    "\n",
    "for r in range(1000):\n",
    "    mywriter.writerow([fake.name(),fake.random_int(min=18, max=80, step=1), \n",
    "                       fake.street_address(), \n",
    "                       fake.city(),\n",
    "                       fake.state(),\n",
    "                       fake.zipcode(),\n",
    "                       fake.longitude(),\n",
    "                       fake.latitude()])\n",
    "output.close()"
   ]
  },
  {
   "cell_type": "markdown",
   "metadata": {},
   "source": [
    "Reading CSVs"
   ]
  },
  {
   "cell_type": "code",
   "execution_count": null,
   "metadata": {
    "collapsed": true
   },
   "outputs": [
    {
     "name": "stdout",
     "output_type": "stream",
     "text": [
      "Michael Anderson\n",
      "Amanda Alvarez\n",
      "Jacqueline Norris\n",
      "Andrew Lopez\n",
      "Paige Price\n",
      "Tracy Peterson\n",
      "Krista Bolton\n",
      "Mark Martinez\n",
      "Jamie Merritt\n",
      "Adam Day\n",
      "Leslie Jackson\n",
      "Jeffery Grant\n",
      "Ryan Ramirez\n",
      "Steven Parker\n",
      "Craig Castro\n",
      "Carlos Cohen\n",
      "Mark Cervantes\n",
      "Emma Jackson\n",
      "Sheila Hartman\n",
      "Justin Holland\n",
      "Robert Stevens MD\n",
      "Shawn Cooper\n",
      "Brenda Evans\n",
      "Raymond Lee\n",
      "Ronald Mendez\n",
      "Michele Mcintosh\n",
      "Courtney Clark\n",
      "Paul Harris\n",
      "Chad Wiggins\n",
      "Maria Moore\n",
      "Mr. Alejandro Salazar\n",
      "Sarah Mccarthy MD\n",
      "Cheryl Bennett\n",
      "Ashley Ortiz\n",
      "Crystal Stone\n",
      "Michael Moore\n",
      "Cynthia Morrison\n",
      "Dean Cabrera\n",
      "Rachel Bowman\n",
      "Tyler Bell\n",
      "James Mccormick\n",
      "Carolyn Kelly\n",
      "George Chandler\n",
      "Dana Rodriguez\n",
      "Justin Vaughn\n",
      "Kenneth Jones\n",
      "Frank Davis\n",
      "Kaitlin Gallegos\n",
      "Emma Gallagher\n",
      "Joshua Rios\n",
      "Debra Hardy\n",
      "James Johnson\n",
      "William Glass\n",
      "Sarah Evans\n",
      "Joseph Dodson\n",
      "Ernest Carlson\n",
      "Joseph Diaz\n",
      "Joseph Smith\n",
      "Joel Finley\n",
      "Steven Scott DVM\n",
      "Michael Joseph\n",
      "Adam Hunt\n",
      "Jennifer Lara\n",
      "Ryan Jones\n",
      "Eugene Murphy\n",
      "Jessica Brooks\n",
      "Samantha Stone DDS\n",
      "Heather Woods\n",
      "Stephen Mora\n",
      "Deborah House\n",
      "James Clark\n",
      "Briana Deleon\n",
      "John Klein\n",
      "Kendra Young\n",
      "Patrick Trujillo\n",
      "Megan Little\n",
      "Jonathan Baldwin\n",
      "Gregory Armstrong\n",
      "Debra Clark\n",
      "Robert Gordon\n",
      "Scott Armstrong\n",
      "David Sanchez\n",
      "Karen Hill\n",
      "Tony Taylor\n",
      "Antonio Washington\n",
      "Michelle Reyes\n",
      "Tonya Richmond\n",
      "Roger Reed\n",
      "Stephanie Delgado\n",
      "Erika Walker\n",
      "Rachel Mays\n",
      "Barbara Martinez\n",
      "Robert Carpenter\n",
      "Jason Howe\n",
      "Christine Cook\n",
      "Christina Robinson\n",
      "Jennifer Smith\n",
      "John Tucker\n",
      "Rebecca Daniel\n",
      "Natalie Moore\n",
      "Heather Hill\n",
      "Leonard Doyle\n",
      "Chris Browning\n",
      "Robert Terry\n",
      "Scott Hart\n",
      "Edward Harper\n",
      "Michael Williams\n",
      "Susan Cox\n",
      "Fernando Waters\n",
      "Robert Whitaker\n",
      "Emily Clarke\n",
      "Katherine James\n",
      "Alexis Wu\n",
      "Ashley Watson\n",
      "Debra Erickson\n",
      "John Spence\n",
      "Douglas Harrison\n",
      "Tammy Washington\n",
      "Brian Hodges\n",
      "William Perez\n",
      "Anthony Stewart\n",
      "Thomas Foster\n",
      "Samantha Williams\n",
      "Jason Bailey\n",
      "Jesse Flores\n",
      "Robert Lewis\n",
      "Teresa Mercado\n",
      "Peter Moore\n",
      "Travis Adams\n",
      "Mr. James Krause\n",
      "Carolyn Chavez\n",
      "Eric Bautista\n",
      "Anthony Brewer\n",
      "Brian Hendricks\n",
      "Scott Ward\n",
      "Amanda Roberts\n",
      "Paige Andrews\n",
      "Alexander Smith\n",
      "Elizabeth Tucker\n",
      "Tonya Walker\n",
      "Anne Avila\n",
      "Kevin Wright\n",
      "Hailey Jordan\n",
      "Jamie Dougherty\n",
      "Nathaniel Alexander\n",
      "Henry Larson\n",
      "Miguel Lester\n",
      "Russell Lucas\n",
      "Amber Juarez\n",
      "Willie Ramsey\n",
      "Francisco Estes\n",
      "Brittany Duran\n",
      "Laura Aguirre\n",
      "Amy Larsen\n",
      "Theresa Jones\n",
      "Robert Gordon\n",
      "Adrian Fisher\n",
      "Rachael Roach\n",
      "Annette Bradshaw\n",
      "Steven Marshall\n",
      "Krystal Anderson\n",
      "Catherine Kaiser\n",
      "Seth Johnson\n",
      "Sara Horn\n",
      "Albert Pierce\n",
      "Michael Rivas\n",
      "Vanessa Stewart\n",
      "Timothy Martinez Jr.\n",
      "Francisco Brewer\n",
      "Kevin Atkins\n",
      "Tamara Delacruz\n",
      "Travis Gould\n",
      "Steven Curtis\n",
      "Christopher Contreras\n",
      "Courtney Thomas\n",
      "Robert Hunter\n",
      "Brandi Mann\n",
      "Amber Parker\n",
      "Joseph Woodward\n",
      "Allen Thompson\n",
      "Ronald Livingston\n",
      "Kenneth Nelson\n",
      "Chad Barrera\n",
      "Clayton Davis\n",
      "Austin Ramirez\n",
      "Sierra Thompson\n",
      "Ryan Barajas\n",
      "Dr. Jordan Martinez\n",
      "Veronica Lewis\n",
      "Marie Chan\n",
      "David Bush\n",
      "Michelle Bowman\n",
      "Tracy Barton\n",
      "Heidi Blackburn\n",
      "Sara Wells\n",
      "Devin Hall\n",
      "Gary Brown\n",
      "Scott Morris\n",
      "Howard Estrada\n",
      "Richard Juarez\n",
      "Jennifer Castillo\n",
      "Brandon Jones\n",
      "David Alvarado\n",
      "Angela Young\n",
      "Brian Kramer\n",
      "Lori Holt\n",
      "Joshua Marsh\n",
      "Robert Thomas\n",
      "Lisa Ramirez\n",
      "Pamela Jones\n",
      "Kelly Williams\n",
      "Meghan Lee\n",
      "Sandra Wallace\n",
      "Robert Holt\n",
      "Paul Gonzales\n",
      "Michael Rios\n",
      "Timothy Bright\n",
      "Valerie Conrad\n",
      "Stephanie Alexander\n",
      "Dr. Patrick Davis\n",
      "Meghan Dodson\n",
      "Chelsea Hardin\n",
      "Cynthia Preston\n",
      "Grace Moore\n",
      "Michelle Carroll\n",
      "Brian Reese\n",
      "Michelle Cooper\n",
      "Matthew Coleman\n",
      "Ashley Caldwell\n",
      "Nicholas Munoz\n",
      "Kelsey Maldonado\n",
      "William Waters\n",
      "Whitney Harris\n",
      "Curtis Weaver\n",
      "Trevor Hudson\n",
      "Thomas Bates\n",
      "Michael Hebert\n",
      "Elijah Bender\n",
      "Jose Leonard\n",
      "Heidi Rojas\n",
      "Michelle Davies\n",
      "April Kim\n",
      "Autumn Cole\n",
      "Paul Blackwell\n",
      "Sabrina Riley MD\n",
      "Christopher Powell\n",
      "Dana Preston\n",
      "Breanna Henson\n",
      "Michelle Gardner\n",
      "Jason Lee\n",
      "Eric Allen\n",
      "Andrea Miller\n",
      "Charles Shea\n",
      "Joseph Jones\n",
      "Ronald Parker\n",
      "Michael Franklin\n",
      "Roger Bright\n",
      "Michelle Romero\n",
      "Ernest Jackson\n",
      "Tim Rivers\n",
      "James Lopez\n",
      "Antonio Blankenship\n",
      "Thomas Reyes\n",
      "Jermaine Moore\n",
      "Kristy Richard\n",
      "Charles Martinez\n",
      "Christopher Wiley\n",
      "Carolyn Taylor\n",
      "Michael Smith\n",
      "Corey Phelps\n",
      "Shawn Wilson\n",
      "David Perez\n",
      "Seth Perez\n",
      "Jennifer Miller\n",
      "Shane Williams\n",
      "Jose Fletcher\n",
      "Erin Jenkins\n",
      "Tina Castro\n",
      "Kathryn Patterson\n",
      "Cynthia Sanders\n",
      "Matthew Lopez\n",
      "Sean Frank\n",
      "William Patterson\n",
      "Deanna Nguyen\n",
      "Stephanie Hall\n",
      "Debra Harrington\n",
      "Tracy Walker\n",
      "Raymond Welch\n",
      "Julie Diaz\n",
      "Jessica Carney\n",
      "Theresa Good\n",
      "Daniel Ayala\n",
      "Robert Stanley\n",
      "Jasmine Johnson\n",
      "Anthony Barnett\n",
      "Jason Simmons\n",
      "Kimberly Elliott\n",
      "Joseph Marks\n",
      "Jesus Mack\n",
      "John Henry\n",
      "David Hernandez\n",
      "Timothy Hernandez\n",
      "Jennifer Mckenzie\n",
      "Joshua Miller\n",
      "Richard Duncan\n",
      "Anne Wells\n",
      "Ryan Trevino\n",
      "Amanda Ballard\n",
      "Amy Wagner\n",
      "Albert Espinoza\n",
      "Crystal Rose\n",
      "Elizabeth Larson\n",
      "Joel Hanna\n",
      "Stephen Reyes\n",
      "Kathleen Flores\n",
      "Christopher White\n",
      "Jessica Yates\n",
      "James Miranda\n",
      "Gerald Schaefer\n",
      "Holly Torres\n",
      "Joshua Warren\n",
      "Michael Russell\n",
      "Cameron Mercado\n",
      "Paul Navarro\n",
      "Mrs. Lauren Adams\n",
      "John Jones\n",
      "Samantha Rodriguez\n",
      "Jessica Miller\n",
      "Michelle Tyler\n",
      "Holly Morris\n",
      "Brenda Garrett\n",
      "Lauren Brown\n",
      "Joel Green\n",
      "Walter Grant\n",
      "Karen Brooks\n",
      "Ms. Natasha Little\n",
      "Matthew Hall\n",
      "David Harris\n",
      "Michael Brady\n",
      "Beth Ruiz\n",
      "Mary Moss\n",
      "Ashley Carpenter\n",
      "Jesus Hanson\n",
      "Lisa Clements\n",
      "Jessica Garza\n",
      "Logan Kim\n",
      "Taylor French\n",
      "Kenneth Taylor\n",
      "Ryan Marquez\n",
      "Angela Evans\n",
      "Mark Jacobs\n",
      "Mary Ballard\n",
      "Sheryl Ford\n",
      "Michelle Tucker\n",
      "Erica Hudson\n",
      "Charles Wagner\n",
      "Victoria Long\n",
      "Alicia Benjamin\n",
      "Diana Ellis\n",
      "Andrew May\n",
      "Ian Soto\n",
      "Karina Gordon\n",
      "Lauren Huang\n",
      "Dr. Lindsay Dyer\n",
      "Brian Gillespie\n",
      "Carlos White\n",
      "Jennifer Smith\n",
      "Vincent Goodman\n",
      "Angela Kramer\n",
      "James Armstrong DVM\n",
      "Curtis Brown\n",
      "Richard Edwards\n",
      "Michelle Burns\n",
      "Randall Salazar\n",
      "Diana Mendoza\n",
      "David Stevens\n",
      "Sabrina Bradley\n",
      "Krystal Miller\n",
      "Craig Howard\n",
      "Megan Moss\n",
      "Cameron Rodriguez\n",
      "Ronald Abbott\n",
      "Brenda Wells\n",
      "Amber Jones\n",
      "Amy Smith\n",
      "Michelle Harris\n",
      "Benjamin Medina\n",
      "Scott Jimenez\n",
      "Mary Rogers\n",
      "Carolyn Scott\n",
      "Abigail Ryan\n",
      "Todd Lynch\n",
      "Mrs. Sarah Hernandez\n",
      "Nicole Griffin\n",
      "Nathan Gonzalez\n",
      "Mary Tate\n",
      "Jason Kennedy\n",
      "Sharon Castro\n",
      "Laura Lee\n",
      "Justin Frey\n",
      "Shannon Johnson\n",
      "James Smith\n",
      "Tara Fisher\n",
      "Joyce Wells MD\n",
      "Christina Campbell\n",
      "Andre Jones\n",
      "John Padilla\n",
      "Allen Rodgers\n",
      "Ronnie Chan\n",
      "Paige Lowe\n",
      "Dennis Anderson\n",
      "Benjamin Hines\n",
      "Kristina Burns DVM\n",
      "Jason Pham\n",
      "Cody Moore\n",
      "Jordan Harris\n",
      "Bruce Herman\n",
      "Stephen Stephens\n",
      "Joseph Walter\n",
      "Jennifer Ramirez\n",
      "William Clark\n",
      "Daniel Reed\n",
      "Sarah Lucas\n",
      "William Weaver\n",
      "Timothy Huffman\n",
      "Erica Smith\n",
      "Natalie Garcia\n",
      "Alec Hernandez\n",
      "Sara Campbell\n",
      "Natalie Miller\n",
      "Benjamin Chapman\n",
      "Kaylee Howell\n",
      "David Flynn\n",
      "Samantha Norton\n",
      "Ruth Ramirez\n",
      "Erika Walker\n",
      "Eric Garcia\n",
      "Tammy Cruz\n",
      "Heidi Ward\n",
      "Michael Park\n",
      "Deborah Lewis\n",
      "Mr. Joshua Martin\n",
      "Shane Moreno\n",
      "Daniel Hayes\n",
      "Jenna Hoover\n",
      "Brian Hughes\n",
      "Natalie Brown\n",
      "Charles Martin\n",
      "Isaac Roach\n",
      "John Orr\n",
      "Natalie George\n",
      "Michael Mcintyre\n",
      "Angela Miller\n",
      "William Barnes\n",
      "Jeremy Gomez\n",
      "Chelsey Cantrell\n",
      "Ashley Smith\n",
      "David Castro\n",
      "Sarah Wade\n",
      "Joseph Mora\n",
      "Krista Christensen\n",
      "Cassandra Rose\n",
      "Alan Kelly\n",
      "Brandi Warner\n",
      "Allison Walker\n",
      "Beverly Martinez\n",
      "Casey Simon\n",
      "Tammy King\n",
      "Melissa Ramirez\n",
      "Angela Dixon\n",
      "Julie Dunn\n",
      "Thomas Rhodes\n",
      "Jack Keith\n",
      "Craig Martin\n",
      "Jennifer Morris MD\n",
      "Kathleen Bauer\n",
      "William Santos\n",
      "Gabrielle Farmer\n",
      "Amy Evans DDS\n",
      "Mary Macdonald\n",
      "Luis Jones\n",
      "James White\n",
      "Brandon Martin\n",
      "Diamond Barker\n",
      "Michael Harper\n",
      "Kristin Scott\n",
      "Derrick Dickerson\n",
      "Yvonne Schneider\n",
      "Ashley Cordova\n",
      "Kristin Peterson\n",
      "Tommy Benjamin\n",
      "Patricia Smith\n",
      "John Nguyen\n",
      "Aaron Gonzalez\n",
      "Dr. Madison Nelson\n",
      "Jose Simon\n",
      "Kim Trevino\n",
      "James Brown\n",
      "Ryan Wagner\n",
      "Bobby Blake\n",
      "Michael Acosta\n",
      "Rachel Miller\n",
      "Robert Rojas\n",
      "Spencer Casey\n",
      "Ashley Christensen\n",
      "Holly Holt\n",
      "Martin Hill\n",
      "Tina Fisher\n",
      "Marissa Cobb\n",
      "Robert Duffy\n",
      "Kristy Baker\n",
      "Justin Gibbs\n",
      "John Wright\n",
      "Robert Robertson\n",
      "Lindsey Atkinson\n",
      "Melissa Reed\n",
      "Michelle Cox\n",
      "Amanda Howard\n",
      "Natasha Meza\n",
      "Timothy Meyer\n",
      "Benjamin May\n",
      "Stephen Davis\n",
      "Justin Perkins\n",
      "Jennifer Armstrong\n",
      "Amanda Mcdonald\n",
      "Stacy Simon\n",
      "Elizabeth Guzman\n",
      "William Valdez\n",
      "Robert Hebert\n",
      "Kelly Thomas\n",
      "John Beck\n",
      "Natalie Williams\n",
      "Fred Vargas\n",
      "Regina Francis\n",
      "Melanie Castaneda\n",
      "Kevin Roberts\n",
      "Heather Mcdonald\n",
      "Alvin Crawford\n",
      "Thomas Brooks\n",
      "Stacey Davis\n",
      "Nancy Moore\n",
      "Rachel Perez\n",
      "Alan Cruz\n",
      "Mary Oliver\n",
      "Vicki Wright\n",
      "Jason Black\n",
      "Jennifer Salas\n",
      "Tiffany Green\n",
      "Jonathan Miller\n",
      "Robert Sanchez\n",
      "Taylor Curry\n",
      "Jason Webb\n",
      "Scott Reed\n",
      "Laura Hunt\n",
      "Michael Marshall\n",
      "Wendy Nielsen\n",
      "Steven Barker\n",
      "William Duran\n",
      "Jordan Massey\n",
      "Kathleen Mccarthy\n",
      "Matthew Contreras\n",
      "Christopher Campbell\n",
      "Heather Wagner\n",
      "Theresa Cobb\n",
      "Becky Sandoval\n",
      "Todd Dunn\n",
      "David Miller\n",
      "Felicia Waters\n",
      "Jeffery Stewart\n",
      "Justin Pena\n",
      "Anna Hoover\n",
      "Joshua Robinson\n",
      "Diana Gordon\n",
      "Lisa Crawford\n",
      "Linda Duarte\n",
      "Danielle Barrett\n",
      "Christopher Brown\n",
      "Paul Gilbert\n",
      "Kayla Jones\n",
      "Barbara Hernandez\n",
      "Kathy Williamson\n",
      "Nancy Hoffman\n",
      "Kevin Patterson\n",
      "Matthew Mitchell\n",
      "Brooke Lopez\n",
      "James Valencia\n",
      "Ashley Castro\n",
      "Debra Brown\n",
      "John Gaines\n",
      "Richard Hogan\n",
      "David Chambers DVM\n",
      "Miss Lisa Nelson\n",
      "Vanessa Rogers\n",
      "Michael Salazar MD\n",
      "David Rodriguez\n",
      "Kathleen Jones\n",
      "Elizabeth George\n",
      "Lauren Smith\n",
      "Joe Grimes\n",
      "John Allen\n",
      "Charles Cordova\n",
      "Adam Blake\n",
      "Kathryn Hawkins\n",
      "Cassandra Johnson\n",
      "Paula Dunn\n",
      "Jacob Williams\n",
      "Jesse Olsen\n",
      "Tara Aguilar\n",
      "Angelica Strickland\n",
      "Thomas Flores\n",
      "Adam Lee\n",
      "Matthew Pope\n",
      "Melissa Henderson\n",
      "Hannah Dominguez\n",
      "Heather Wise\n",
      "Casey Harrison\n",
      "Chad Brewer\n",
      "Tracy Harris\n",
      "Carolyn Hill\n",
      "Vincent Foster\n",
      "Brian Flores\n",
      "Linda Patterson\n",
      "Lindsay Miller\n",
      "Maria Brown\n",
      "Joshua Greene\n",
      "Angela Sanchez\n",
      "Katie Ayala\n",
      "Michelle Boone DVM\n",
      "Scott Mcgee\n",
      "Catherine Moore\n",
      "John Carter\n",
      "Daniel Jones\n",
      "Mark Morgan\n",
      "Michael Washington\n",
      "Mary Avery\n",
      "John Patton\n",
      "Steven Valentine\n",
      "Melissa Mcmillan\n",
      "Christopher Smith\n",
      "Richard Garcia\n",
      "Carlos Ortiz\n",
      "Linda Simpson\n",
      "Amy Johnson\n",
      "Shirley Rangel\n",
      "Kevin Berry\n",
      "Brittany Goodwin\n",
      "Elizabeth Nelson\n",
      "David Knight\n",
      "Kristin White\n",
      "Robert Shepard\n",
      "John Lloyd\n",
      "Cassandra Chambers\n",
      "Jessica Scott\n",
      "James Nguyen\n",
      "Luis Allen\n",
      "Ruben Morton\n",
      "Terri Anderson\n",
      "Heather Turner\n",
      "Christine Mcpherson\n",
      "Randy West\n",
      "Bradley Parker\n",
      "Charles Davis\n",
      "Kayla Jenkins\n",
      "Veronica Daniel\n",
      "Mr. Adrian Parsons\n",
      "Riley Schultz\n",
      "Dawn Gregory\n",
      "Manuel Norris\n",
      "Caleb Moran\n",
      "Kenneth Watkins\n",
      "Yolanda Harrison\n",
      "Andrea Cortez\n",
      "Shawn Roberts\n",
      "Steven Lang\n",
      "Margaret Watson\n",
      "Nicholas Mathews\n",
      "Patrick Singh\n",
      "Robert Lawson\n",
      "Douglas Avila\n",
      "Kerri Martin\n",
      "Christopher Mckenzie\n",
      "Jeffrey Campbell\n",
      "Katie Schwartz\n",
      "Samantha Rodriguez\n",
      "Ariana Small\n",
      "Spencer Snyder\n",
      "Jennifer Vasquez\n",
      "Mary Sullivan\n",
      "Nicolas Riggs\n",
      "Cody Reyes\n",
      "Sherri Martinez PhD\n",
      "Christina Kaiser\n",
      "Lawrence Phillips\n",
      "Cynthia Warner\n",
      "Tammy Nelson\n",
      "Robert Boyd\n",
      "Christina Harris\n",
      "George Marsh\n",
      "Danielle Andrade\n",
      "Christian Kerr\n",
      "Zachary Diaz\n",
      "Jason Strong\n",
      "Steven Murphy\n",
      "Johnny Rivera\n",
      "Candace Sawyer\n",
      "Pamela Johnson MD\n",
      "Christopher Crawford\n",
      "Darlene Valencia\n",
      "Natalie Long\n",
      "James Hartman\n",
      "Jade Carson\n",
      "William Lopez\n",
      "Kevin Sanders\n",
      "Christine Griffin\n",
      "Debra Clark\n",
      "Richard Jones\n",
      "Donna Solis\n",
      "Melissa Reed\n",
      "Russell Hutchinson\n",
      "Craig Henry\n",
      "Laura Fox\n",
      "Rebecca Sherman\n",
      "Ricky Price\n",
      "Gerald Griffin\n",
      "Kim Horton\n",
      "Jackson Rodriguez\n",
      "Caroline Roberts\n",
      "Scott Gonzalez\n",
      "Stacey Anderson\n",
      "Glen Smith\n",
      "Daniel Richards\n",
      "Eric George\n",
      "Katherine Smith\n",
      "Thomas Owens\n",
      "Deanna Bell\n",
      "Julia Diaz\n",
      "Catherine Carey\n",
      "Ryan Mcguire\n",
      "Bryan Flynn\n",
      "James Adams\n",
      "Lorraine Watson PhD\n",
      "Ann Grant\n",
      "Sarah Fuentes\n",
      "Jasmine Delgado\n",
      "Ryan Mayo\n",
      "Alicia Evans\n",
      "Julia Thomas\n",
      "Shannon Arnold\n",
      "Shannon Ruiz\n",
      "Alexa Brown\n",
      "Jeffery Lewis\n",
      "Haley Green\n",
      "Katherine Farley\n",
      "Adrian Vargas\n",
      "Matthew Hood\n",
      "Jill Campos PhD\n",
      "Gina Reyes\n",
      "Carlos Diaz\n",
      "Eric Haynes\n",
      "Amanda Mitchell\n",
      "William Bender\n",
      "Lucas Rodriguez\n",
      "Daniel Harrell\n",
      "Kerry Nicholson\n",
      "Jocelyn Carey\n",
      "Ryan Bird\n",
      "Michael Castaneda\n",
      "Andrew Price\n",
      "William Miller\n",
      "Wayne Peterson\n",
      "Mr. Gary Bailey\n",
      "Robin Duncan\n",
      "Rebekah Maldonado\n",
      "Adam Wright\n",
      "Heather Smith\n",
      "Michael Mckinney\n",
      "Kyle Perez\n",
      "Stephen Odonnell\n",
      "Amber Winters\n",
      "Steven Berry\n",
      "Dr. Robert Gray Jr.\n",
      "Todd Rivera\n",
      "Deborah Ramirez\n",
      "Jose Kelley\n",
      "Robert Whitaker DVM\n",
      "Stephanie Young\n",
      "Jennifer Smith\n",
      "Olivia Owens\n",
      "Andrew Holland\n",
      "Andre Perez\n",
      "Jonathan Tyler\n",
      "William Hester\n",
      "Angela Clark\n",
      "Matthew Hall\n",
      "Leah Maxwell\n",
      "Cynthia Ferrell\n",
      "Kathryn Reyes\n",
      "Molly Bennett\n",
      "Emily Anderson\n",
      "Diane Mayer\n",
      "Sara Cooper\n",
      "Charles Coffey\n",
      "Veronica Foster\n",
      "Joshua Nolan\n",
      "Michael Green\n",
      "Shawna Thornton\n",
      "Michelle Williams\n",
      "Dana Martinez\n",
      "Steven Allen\n",
      "Jason Bryant\n",
      "Jessica Holloway\n",
      "Sandra Mitchell\n",
      "Christopher Morrison\n",
      "Carrie Reyes\n",
      "Julie Rodriguez\n",
      "Nicole Hill\n",
      "Teresa Duncan\n",
      "Kimberly Weber\n",
      "Victor Johnson\n",
      "Yolanda Wilson\n",
      "Ms. Janet Mitchell MD\n",
      "Carl Nichols\n",
      "Sandra Henson\n",
      "Jaime Gonzalez\n",
      "Alice Phillips\n",
      "Wesley James\n",
      "Sean Jackson\n",
      "Jason Thompson\n",
      "Dennis Walker\n",
      "Ashley Tucker\n",
      "Jennifer Jarvis\n",
      "Daniel Price MD\n",
      "Jeremy Wagner\n",
      "Jeanette Cuevas\n",
      "Katie Williams\n",
      "Matthew Golden\n",
      "Michael Peterson\n",
      "Rachel Young\n",
      "Rick Diaz\n",
      "James Robinson\n",
      "Alicia Boone\n",
      "Lisa Wolf\n",
      "Theresa Jones\n",
      "Jamie Mckinney\n",
      "Ronald Hernandez\n",
      "Mary Hall\n",
      "Ashlee Collins\n",
      "Joanne Jones\n",
      "Stacie Bryant\n",
      "Jason Rodriguez\n",
      "Andrea Leonard\n",
      "Amy Avery\n",
      "Julia Russo\n",
      "Leslie Walker\n",
      "John Jones\n",
      "Christine Pittman\n",
      "Mary Zhang\n",
      "Brandon Bass\n",
      "Tristan Huynh\n",
      "Joseph Williams\n",
      "Sophia Campbell\n",
      "Kevin Cooper\n",
      "Sharon Briggs\n",
      "Michelle Pratt\n",
      "Christina Allen\n",
      "Carolyn Griffith\n",
      "Kenneth Allen\n",
      "Julie Parker\n",
      "Amy Thomas\n",
      "Kelsey Edwards\n",
      "Katrina Pearson\n",
      "Robert Olson\n",
      "Dr. Robert Bright Jr.\n",
      "Michelle Chang\n",
      "Robert Walker\n",
      "Morgan Johnson\n",
      "Kevin Hardy\n",
      "Shelley Ferguson\n",
      "Jeffrey Guzman\n",
      "Christopher Davis\n",
      "Jessica Gonzalez\n",
      "Jason Oliver\n",
      "Andrea Hudson\n",
      "Jacqueline Ryan\n",
      "Linda Jenkins\n",
      "Heather Johnston\n",
      "Darrell Shaw\n",
      "Nicholas Walker\n",
      "Karen Gross\n",
      "Valerie King\n",
      "Martin Clark\n",
      "Sarah Saunders\n",
      "Emily Green\n",
      "Thomas Cruz\n",
      "Donald Collins\n",
      "Alexandra Pratt\n",
      "Tanya Lopez\n",
      "Ellen Thomas\n",
      "Jamie Hall\n",
      "Caitlin Chase\n",
      "Thomas Ritter\n",
      "Kevin Bright\n",
      "Catherine Haynes\n",
      "Melanie Sanchez\n",
      "Jessica Thomas\n",
      "Jonathan Hahn\n",
      "John Rodriguez\n",
      "Elaine Bowers\n",
      "Mark Buchanan\n",
      "Margaret Miller\n",
      "Robert Lin\n",
      "Paul Washington\n",
      "Jacob Montgomery\n",
      "Samuel Mcclure\n",
      "Jennifer Hill\n",
      "Scott Soto\n",
      "Tony Jackson\n",
      "David Webb\n",
      "John Phillips\n",
      "Casey Garcia\n",
      "Lisa Lara\n",
      "David Levine\n",
      "Nicole Villegas\n",
      "Mark Lucero\n",
      "Megan Alvarez\n",
      "John Gutierrez\n",
      "Cory Ellison\n",
      "David Spears\n",
      "Laura Coleman\n",
      "Cindy Miles DVM\n",
      "Jeremy Gonzales\n",
      "Michael King\n",
      "Christopher Baker\n",
      "James Anderson\n",
      "Philip Brown\n",
      "Gregory Shea\n",
      "Robert Massey\n",
      "Cole Cherry\n",
      "Michelle Porter\n",
      "John Davidson\n",
      "Susan Gonzalez MD\n",
      "Justin Osborne\n",
      "Natalie Davidson\n",
      "Lisa Dunn\n",
      "Tammy Hanson\n",
      "Andrew Floyd\n",
      "Julie Holmes\n",
      "Andre Holland\n",
      "Brian Mays\n",
      "Jennifer Lowery\n",
      "April Thomas\n",
      "George Snow\n",
      "Charles Taylor\n",
      "Elizabeth Smith\n",
      "Joshua Hernandez\n",
      "Michelle Howard\n",
      "Jessica Charles\n",
      "William Rocha\n",
      "Chelsea Russell\n",
      "Megan Allen\n",
      "Mariah Williams\n",
      "Katherine Snyder\n",
      "Jeffrey Frazier\n",
      "Julie Bautista\n",
      "Robert Dean\n",
      "Douglas Johnson\n",
      "Joshua Melton\n",
      "Michele Joseph\n",
      "Amber Smith\n",
      "Jose Brown\n",
      "Jose Atkins\n",
      "Keith Bryant\n",
      "Adrian Stewart\n",
      "James Mccall\n",
      "Thomas Dalton\n",
      "Robert Parsons\n",
      "Paul Jones\n",
      "Teresa Lopez\n",
      "Emily West\n",
      "Rachel Eaton MD\n",
      "Christina Stevens\n",
      "James Johnson\n",
      "Vickie Robbins\n",
      "Thomas Wright MD\n",
      "Brian Brady\n",
      "Bailey Collins\n",
      "Karen Martin\n",
      "Jessica Ward\n",
      "Lisa Oconnell\n",
      "Lisa Patterson\n",
      "Rebecca Williams\n",
      "Maureen Taylor\n",
      "Brittany Vasquez\n",
      "Tony Carrillo\n",
      "Robin Blackburn\n",
      "Steven Martinez\n",
      "Andrew Williamson DDS\n",
      "Crystal Lowe\n",
      "Gwendolyn Mathis\n"
     ]
    }
   ],
   "source": [
    "import csv\n",
    "\n",
    "with open('data.csv') as f:\n",
    "    myreader=csv.DictReader(f)\n",
    "    headers=next(myreader)\n",
    "    for row in myreader:\n",
    "        print(row['name'])"
   ]
  },
  {
   "cell_type": "markdown",
   "metadata": {},
   "source": [
    "### Reading and writing CSVs using pandas DataFrames"
   ]
  },
  {
   "cell_type": "code",
   "execution_count": null,
   "metadata": {},
   "outputs": [],
   "source": [
    "import pandas as pd\n",
    "df=pd.read_csv('data.csv')"
   ]
  },
  {
   "cell_type": "code",
   "execution_count": null,
   "metadata": {},
   "outputs": [
    {
     "data": {
      "text/html": [
       "<div>\n",
       "<style scoped>\n",
       "    .dataframe tbody tr th:only-of-type {\n",
       "        vertical-align: middle;\n",
       "    }\n",
       "\n",
       "    .dataframe tbody tr th {\n",
       "        vertical-align: top;\n",
       "    }\n",
       "\n",
       "    .dataframe thead th {\n",
       "        text-align: right;\n",
       "    }\n",
       "</style>\n",
       "<table border=\"1\" class=\"dataframe\">\n",
       "  <thead>\n",
       "    <tr style=\"text-align: right;\">\n",
       "      <th></th>\n",
       "      <th>name</th>\n",
       "      <th>age</th>\n",
       "      <th>street</th>\n",
       "      <th>city</th>\n",
       "      <th>state</th>\n",
       "      <th>zip</th>\n",
       "      <th>lng</th>\n",
       "      <th>lat</th>\n",
       "    </tr>\n",
       "  </thead>\n",
       "  <tbody>\n",
       "    <tr>\n",
       "      <th>0</th>\n",
       "      <td>Jenna Morgan</td>\n",
       "      <td>33</td>\n",
       "      <td>317 Amanda Pines</td>\n",
       "      <td>Port Douglas</td>\n",
       "      <td>Washington</td>\n",
       "      <td>90540</td>\n",
       "      <td>6.239324</td>\n",
       "      <td>82.924952</td>\n",
       "    </tr>\n",
       "    <tr>\n",
       "      <th>1</th>\n",
       "      <td>Michael Anderson</td>\n",
       "      <td>37</td>\n",
       "      <td>86897 Cooper Vista Apt. 803</td>\n",
       "      <td>Vanessaton</td>\n",
       "      <td>Mississippi</td>\n",
       "      <td>22343</td>\n",
       "      <td>-41.347978</td>\n",
       "      <td>-33.195403</td>\n",
       "    </tr>\n",
       "    <tr>\n",
       "      <th>2</th>\n",
       "      <td>Amanda Alvarez</td>\n",
       "      <td>18</td>\n",
       "      <td>55963 Davis Spring Apt. 360</td>\n",
       "      <td>Jasonland</td>\n",
       "      <td>Idaho</td>\n",
       "      <td>18603</td>\n",
       "      <td>145.126961</td>\n",
       "      <td>-14.411687</td>\n",
       "    </tr>\n",
       "    <tr>\n",
       "      <th>3</th>\n",
       "      <td>Jacqueline Norris</td>\n",
       "      <td>56</td>\n",
       "      <td>543 Mary Hill Apt. 994</td>\n",
       "      <td>New Andreburgh</td>\n",
       "      <td>Oklahoma</td>\n",
       "      <td>79900</td>\n",
       "      <td>24.885753</td>\n",
       "      <td>-79.665479</td>\n",
       "    </tr>\n",
       "    <tr>\n",
       "      <th>4</th>\n",
       "      <td>Andrew Lopez</td>\n",
       "      <td>18</td>\n",
       "      <td>137 Jerry Divide Apt. 254</td>\n",
       "      <td>East Erin</td>\n",
       "      <td>Pennsylvania</td>\n",
       "      <td>19686</td>\n",
       "      <td>6.003035</td>\n",
       "      <td>-66.235487</td>\n",
       "    </tr>\n",
       "    <tr>\n",
       "      <th>5</th>\n",
       "      <td>Paige Price</td>\n",
       "      <td>41</td>\n",
       "      <td>3378 Kevin Court</td>\n",
       "      <td>North Kevinton</td>\n",
       "      <td>Missouri</td>\n",
       "      <td>41034</td>\n",
       "      <td>-28.737702</td>\n",
       "      <td>17.581486</td>\n",
       "    </tr>\n",
       "    <tr>\n",
       "      <th>6</th>\n",
       "      <td>Tracy Peterson</td>\n",
       "      <td>21</td>\n",
       "      <td>0365 Garcia Spurs</td>\n",
       "      <td>New Dawnville</td>\n",
       "      <td>Minnesota</td>\n",
       "      <td>88926</td>\n",
       "      <td>130.223861</td>\n",
       "      <td>75.215893</td>\n",
       "    </tr>\n",
       "    <tr>\n",
       "      <th>7</th>\n",
       "      <td>Krista Bolton</td>\n",
       "      <td>40</td>\n",
       "      <td>6849 Steve Ports</td>\n",
       "      <td>Melindachester</td>\n",
       "      <td>Delaware</td>\n",
       "      <td>94093</td>\n",
       "      <td>-74.998645</td>\n",
       "      <td>-54.472779</td>\n",
       "    </tr>\n",
       "    <tr>\n",
       "      <th>8</th>\n",
       "      <td>Mark Martinez</td>\n",
       "      <td>64</td>\n",
       "      <td>40582 George Spurs Suite 399</td>\n",
       "      <td>Bennettside</td>\n",
       "      <td>Kentucky</td>\n",
       "      <td>40896</td>\n",
       "      <td>-139.039326</td>\n",
       "      <td>-60.897790</td>\n",
       "    </tr>\n",
       "    <tr>\n",
       "      <th>9</th>\n",
       "      <td>Jamie Merritt</td>\n",
       "      <td>41</td>\n",
       "      <td>267 Cooper Isle Suite 752</td>\n",
       "      <td>Port Kevin</td>\n",
       "      <td>Mississippi</td>\n",
       "      <td>55918</td>\n",
       "      <td>-144.798861</td>\n",
       "      <td>81.115103</td>\n",
       "    </tr>\n",
       "  </tbody>\n",
       "</table>\n",
       "</div>"
      ],
      "text/plain": [
       "                name  age                        street            city  \\\n",
       "0       Jenna Morgan   33              317 Amanda Pines    Port Douglas   \n",
       "1   Michael Anderson   37   86897 Cooper Vista Apt. 803      Vanessaton   \n",
       "2     Amanda Alvarez   18   55963 Davis Spring Apt. 360       Jasonland   \n",
       "3  Jacqueline Norris   56        543 Mary Hill Apt. 994  New Andreburgh   \n",
       "4       Andrew Lopez   18     137 Jerry Divide Apt. 254       East Erin   \n",
       "5        Paige Price   41              3378 Kevin Court  North Kevinton   \n",
       "6     Tracy Peterson   21             0365 Garcia Spurs   New Dawnville   \n",
       "7      Krista Bolton   40              6849 Steve Ports  Melindachester   \n",
       "8      Mark Martinez   64  40582 George Spurs Suite 399     Bennettside   \n",
       "9      Jamie Merritt   41     267 Cooper Isle Suite 752      Port Kevin   \n",
       "\n",
       "          state    zip         lng        lat  \n",
       "0    Washington  90540    6.239324  82.924952  \n",
       "1   Mississippi  22343  -41.347978 -33.195403  \n",
       "2         Idaho  18603  145.126961 -14.411687  \n",
       "3      Oklahoma  79900   24.885753 -79.665479  \n",
       "4  Pennsylvania  19686    6.003035 -66.235487  \n",
       "5      Missouri  41034  -28.737702  17.581486  \n",
       "6     Minnesota  88926  130.223861  75.215893  \n",
       "7      Delaware  94093  -74.998645 -54.472779  \n",
       "8      Kentucky  40896 -139.039326 -60.897790  \n",
       "9   Mississippi  55918 -144.798861  81.115103  "
      ]
     },
     "execution_count": 8,
     "metadata": {},
     "output_type": "execute_result"
    }
   ],
   "source": [
    "df.head(10)"
   ]
  },
  {
   "cell_type": "markdown",
   "metadata": {},
   "source": [
    "### Writing JSON with Python"
   ]
  },
  {
   "cell_type": "markdown",
   "metadata": {},
   "source": [
    "Write JSON using Python and the standard library"
   ]
  },
  {
   "cell_type": "code",
   "execution_count": null,
   "metadata": {},
   "outputs": [],
   "source": [
    "from faker import Faker\n",
    "import json\n",
    "\n",
    "output=open('data.json','w')\n",
    "\n",
    "fake=Faker()\n",
    "alldata={}\n",
    "alldata['records']=[]\n",
    "\n",
    "for x in range(1000):\n",
    "    data={\"name\":fake.name(),\n",
    "          \"age\":fake.random_int(min=18, max=80, step=1),\n",
    "          \"street\":fake.street_address(),\n",
    "          \"city\":fake.city(),\n",
    "          \"state\":fake.state(),\n",
    "          \"zip\":fake.zipcode(),\n",
    "          \"lng\":float(fake.longitude()),\n",
    "          \"lat\":float(fake.latitude())}\n",
    "    alldata['records'].append(data)\n",
    "json.dump(alldata,output)"
   ]
  },
  {
   "cell_type": "code",
   "execution_count": null,
   "metadata": {},
   "outputs": [],
   "source": [
    "Reading CSVs"
   ]
  },
  {
   "cell_type": "code",
   "execution_count": null,
   "metadata": {
    "collapsed": true
   },
   "outputs": [
    {
     "ename": "JSONDecodeError",
     "evalue": "Expecting ',' delimiter: line 1 column 172179 (char 172178)",
     "output_type": "error",
     "traceback": [
      "\u001b[0;31m---------------------------------------------------------------------------\u001b[0m",
      "\u001b[0;31mJSONDecodeError\u001b[0m                           Traceback (most recent call last)",
      "\u001b[0;32m<ipython-input-25-f5ec10f8815c>\u001b[0m in \u001b[0;36m<module>\u001b[0;34m\u001b[0m\n\u001b[1;32m      1\u001b[0m \u001b[0;32mimport\u001b[0m \u001b[0mjson\u001b[0m\u001b[0;34m\u001b[0m\u001b[0;34m\u001b[0m\u001b[0m\n\u001b[1;32m      2\u001b[0m \u001b[0;32mwith\u001b[0m \u001b[0mopen\u001b[0m\u001b[0;34m(\u001b[0m\u001b[0;34m\"data.json\"\u001b[0m\u001b[0;34m,\u001b[0m\u001b[0;34m'r'\u001b[0m\u001b[0;34m)\u001b[0m \u001b[0;32mas\u001b[0m \u001b[0mf\u001b[0m\u001b[0;34m:\u001b[0m\u001b[0;34m\u001b[0m\u001b[0;34m\u001b[0m\u001b[0m\n\u001b[0;32m----> 3\u001b[0;31m     \u001b[0mdata\u001b[0m\u001b[0;34m=\u001b[0m\u001b[0mjson\u001b[0m\u001b[0;34m.\u001b[0m\u001b[0mload\u001b[0m\u001b[0;34m(\u001b[0m\u001b[0mf\u001b[0m\u001b[0;34m)\u001b[0m\u001b[0;34m\u001b[0m\u001b[0;34m\u001b[0m\u001b[0m\n\u001b[0m\u001b[1;32m      4\u001b[0m \u001b[0mprint\u001b[0m\u001b[0;34m(\u001b[0m\u001b[0mtype\u001b[0m\u001b[0;34m(\u001b[0m\u001b[0mdata\u001b[0m\u001b[0;34m)\u001b[0m\u001b[0;34m)\u001b[0m\u001b[0;34m\u001b[0m\u001b[0;34m\u001b[0m\u001b[0m\n\u001b[1;32m      5\u001b[0m \u001b[0mprint\u001b[0m\u001b[0;34m(\u001b[0m\u001b[0mdata\u001b[0m\u001b[0;34m[\u001b[0m\u001b[0;34m'records'\u001b[0m\u001b[0;34m]\u001b[0m\u001b[0;34m[\u001b[0m\u001b[0;36m0\u001b[0m\u001b[0;34m]\u001b[0m\u001b[0;34m[\u001b[0m\u001b[0;34m'name'\u001b[0m\u001b[0;34m]\u001b[0m\u001b[0;34m)\u001b[0m\u001b[0;34m\u001b[0m\u001b[0;34m\u001b[0m\u001b[0m\n",
      "\u001b[0;32m~/anaconda3/lib/python3.7/json/__init__.py\u001b[0m in \u001b[0;36mload\u001b[0;34m(fp, cls, object_hook, parse_float, parse_int, parse_constant, object_pairs_hook, **kw)\u001b[0m\n\u001b[1;32m    294\u001b[0m         \u001b[0mcls\u001b[0m\u001b[0;34m=\u001b[0m\u001b[0mcls\u001b[0m\u001b[0;34m,\u001b[0m \u001b[0mobject_hook\u001b[0m\u001b[0;34m=\u001b[0m\u001b[0mobject_hook\u001b[0m\u001b[0;34m,\u001b[0m\u001b[0;34m\u001b[0m\u001b[0;34m\u001b[0m\u001b[0m\n\u001b[1;32m    295\u001b[0m         \u001b[0mparse_float\u001b[0m\u001b[0;34m=\u001b[0m\u001b[0mparse_float\u001b[0m\u001b[0;34m,\u001b[0m \u001b[0mparse_int\u001b[0m\u001b[0;34m=\u001b[0m\u001b[0mparse_int\u001b[0m\u001b[0;34m,\u001b[0m\u001b[0;34m\u001b[0m\u001b[0;34m\u001b[0m\u001b[0m\n\u001b[0;32m--> 296\u001b[0;31m         parse_constant=parse_constant, object_pairs_hook=object_pairs_hook, **kw)\n\u001b[0m\u001b[1;32m    297\u001b[0m \u001b[0;34m\u001b[0m\u001b[0m\n\u001b[1;32m    298\u001b[0m \u001b[0;34m\u001b[0m\u001b[0m\n",
      "\u001b[0;32m~/anaconda3/lib/python3.7/json/__init__.py\u001b[0m in \u001b[0;36mloads\u001b[0;34m(s, encoding, cls, object_hook, parse_float, parse_int, parse_constant, object_pairs_hook, **kw)\u001b[0m\n\u001b[1;32m    346\u001b[0m             \u001b[0mparse_int\u001b[0m \u001b[0;32mis\u001b[0m \u001b[0;32mNone\u001b[0m \u001b[0;32mand\u001b[0m \u001b[0mparse_float\u001b[0m \u001b[0;32mis\u001b[0m \u001b[0;32mNone\u001b[0m \u001b[0;32mand\u001b[0m\u001b[0;34m\u001b[0m\u001b[0;34m\u001b[0m\u001b[0m\n\u001b[1;32m    347\u001b[0m             parse_constant is None and object_pairs_hook is None and not kw):\n\u001b[0;32m--> 348\u001b[0;31m         \u001b[0;32mreturn\u001b[0m \u001b[0m_default_decoder\u001b[0m\u001b[0;34m.\u001b[0m\u001b[0mdecode\u001b[0m\u001b[0;34m(\u001b[0m\u001b[0ms\u001b[0m\u001b[0;34m)\u001b[0m\u001b[0;34m\u001b[0m\u001b[0;34m\u001b[0m\u001b[0m\n\u001b[0m\u001b[1;32m    349\u001b[0m     \u001b[0;32mif\u001b[0m \u001b[0mcls\u001b[0m \u001b[0;32mis\u001b[0m \u001b[0;32mNone\u001b[0m\u001b[0;34m:\u001b[0m\u001b[0;34m\u001b[0m\u001b[0;34m\u001b[0m\u001b[0m\n\u001b[1;32m    350\u001b[0m         \u001b[0mcls\u001b[0m \u001b[0;34m=\u001b[0m \u001b[0mJSONDecoder\u001b[0m\u001b[0;34m\u001b[0m\u001b[0;34m\u001b[0m\u001b[0m\n",
      "\u001b[0;32m~/anaconda3/lib/python3.7/json/decoder.py\u001b[0m in \u001b[0;36mdecode\u001b[0;34m(self, s, _w)\u001b[0m\n\u001b[1;32m    335\u001b[0m \u001b[0;34m\u001b[0m\u001b[0m\n\u001b[1;32m    336\u001b[0m         \"\"\"\n\u001b[0;32m--> 337\u001b[0;31m         \u001b[0mobj\u001b[0m\u001b[0;34m,\u001b[0m \u001b[0mend\u001b[0m \u001b[0;34m=\u001b[0m \u001b[0mself\u001b[0m\u001b[0;34m.\u001b[0m\u001b[0mraw_decode\u001b[0m\u001b[0;34m(\u001b[0m\u001b[0ms\u001b[0m\u001b[0;34m,\u001b[0m \u001b[0midx\u001b[0m\u001b[0;34m=\u001b[0m\u001b[0m_w\u001b[0m\u001b[0;34m(\u001b[0m\u001b[0ms\u001b[0m\u001b[0;34m,\u001b[0m \u001b[0;36m0\u001b[0m\u001b[0;34m)\u001b[0m\u001b[0;34m.\u001b[0m\u001b[0mend\u001b[0m\u001b[0;34m(\u001b[0m\u001b[0;34m)\u001b[0m\u001b[0;34m)\u001b[0m\u001b[0;34m\u001b[0m\u001b[0;34m\u001b[0m\u001b[0m\n\u001b[0m\u001b[1;32m    338\u001b[0m         \u001b[0mend\u001b[0m \u001b[0;34m=\u001b[0m \u001b[0m_w\u001b[0m\u001b[0;34m(\u001b[0m\u001b[0ms\u001b[0m\u001b[0;34m,\u001b[0m \u001b[0mend\u001b[0m\u001b[0;34m)\u001b[0m\u001b[0;34m.\u001b[0m\u001b[0mend\u001b[0m\u001b[0;34m(\u001b[0m\u001b[0;34m)\u001b[0m\u001b[0;34m\u001b[0m\u001b[0;34m\u001b[0m\u001b[0m\n\u001b[1;32m    339\u001b[0m         \u001b[0;32mif\u001b[0m \u001b[0mend\u001b[0m \u001b[0;34m!=\u001b[0m \u001b[0mlen\u001b[0m\u001b[0;34m(\u001b[0m\u001b[0ms\u001b[0m\u001b[0;34m)\u001b[0m\u001b[0;34m:\u001b[0m\u001b[0;34m\u001b[0m\u001b[0;34m\u001b[0m\u001b[0m\n",
      "\u001b[0;32m~/anaconda3/lib/python3.7/json/decoder.py\u001b[0m in \u001b[0;36mraw_decode\u001b[0;34m(self, s, idx)\u001b[0m\n\u001b[1;32m    351\u001b[0m         \"\"\"\n\u001b[1;32m    352\u001b[0m         \u001b[0;32mtry\u001b[0m\u001b[0;34m:\u001b[0m\u001b[0;34m\u001b[0m\u001b[0;34m\u001b[0m\u001b[0m\n\u001b[0;32m--> 353\u001b[0;31m             \u001b[0mobj\u001b[0m\u001b[0;34m,\u001b[0m \u001b[0mend\u001b[0m \u001b[0;34m=\u001b[0m \u001b[0mself\u001b[0m\u001b[0;34m.\u001b[0m\u001b[0mscan_once\u001b[0m\u001b[0;34m(\u001b[0m\u001b[0ms\u001b[0m\u001b[0;34m,\u001b[0m \u001b[0midx\u001b[0m\u001b[0;34m)\u001b[0m\u001b[0;34m\u001b[0m\u001b[0;34m\u001b[0m\u001b[0m\n\u001b[0m\u001b[1;32m    354\u001b[0m         \u001b[0;32mexcept\u001b[0m \u001b[0mStopIteration\u001b[0m \u001b[0;32mas\u001b[0m \u001b[0merr\u001b[0m\u001b[0;34m:\u001b[0m\u001b[0;34m\u001b[0m\u001b[0;34m\u001b[0m\u001b[0m\n\u001b[1;32m    355\u001b[0m             \u001b[0;32mraise\u001b[0m \u001b[0mJSONDecodeError\u001b[0m\u001b[0;34m(\u001b[0m\u001b[0;34m\"Expecting value\"\u001b[0m\u001b[0;34m,\u001b[0m \u001b[0ms\u001b[0m\u001b[0;34m,\u001b[0m \u001b[0merr\u001b[0m\u001b[0;34m.\u001b[0m\u001b[0mvalue\u001b[0m\u001b[0;34m)\u001b[0m \u001b[0;32mfrom\u001b[0m \u001b[0;32mNone\u001b[0m\u001b[0;34m\u001b[0m\u001b[0;34m\u001b[0m\u001b[0m\n",
      "\u001b[0;31mJSONDecodeError\u001b[0m: Expecting ',' delimiter: line 1 column 172179 (char 172178)"
     ]
    }
   ],
   "source": [
    "import json\n",
    "with open(\"data.json\",'r') as f:\n",
    "    data=json.load(f)\n",
    "print(type(data))\n",
    "print(data['records'][0]['name'])"
   ]
  },
  {
   "cell_type": "code",
   "execution_count": null,
   "metadata": {},
   "outputs": [],
   "source": []
  }
 ],
 "metadata": {
  "kernelspec": {
   "display_name": "Python 3",
   "language": "python",
   "name": "python3"
  },
  "language_info": {
   "codemirror_mode": {
    "name": "ipython",
    "version": 3
   },
   "file_extension": ".py",
   "mimetype": "text/x-python",
   "name": "python",
   "nbconvert_exporter": "python",
   "pygments_lexer": "ipython3",
   "version": "3.8.5"
  }
 },
 "nbformat": 4,
 "nbformat_minor": 2
}
